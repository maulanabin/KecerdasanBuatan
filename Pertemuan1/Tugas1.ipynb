{
 "cells": [
  {
   "cell_type": "code",
   "execution_count": 55,
   "id": "08a631f4",
   "metadata": {},
   "outputs": [
    {
     "name": "stdout",
     "output_type": "stream",
     "text": [
      "Nilai desimal dari 250 diubah menjadi:\n",
      "0o372 dalam oktal.\n",
      "\n",
      "\n",
      "Nilai oktal dari 0o372 diubah menjadi:\n",
      "250 dalam desimal.\n"
     ]
    }
   ],
   "source": [
    "# Maulana Bintang Irfansyah - 15 - TI 2H\n",
    "# Pemrograman Dasar Python\n",
    "\n",
    "# Bilangan Desimal ke Bilangan Oktal\n",
    "numbersOfDecimal = 250\n",
    "oct_numbers = oct(numbersOfDecimal)\n",
    "print(\"Nilai desimal dari\", numbersOfDecimal, \"diubah menjadi:\")\n",
    "print(oct_numbers, \"dalam oktal.\")\n",
    "print(\"\\n\")\n",
    "# Bilangan Oktal ke Bilangan Desimal\n",
    "print(\"Nilai oktal dari\", oct_numbers, \"diubah menjadi:\")\n",
    "print(int(oct_numbers, 8), \"dalam desimal.\")"
   ]
  },
  {
   "cell_type": "code",
   "execution_count": 11,
   "id": "02a5e741",
   "metadata": {},
   "outputs": [
    {
     "name": "stdout",
     "output_type": "stream",
     "text": [
      "Nilai desimal dari 250 diubah menjadi:\n",
      "0xfa dalam hexadesimal.\n",
      "\n",
      "\n",
      "Nilai hexadesimal dari 0xfa diubah menjadi:\n",
      "250 dalam desimal.\n"
     ]
    }
   ],
   "source": [
    "# Bilangan Desimal ke Bilangan Hexadesimal\n",
    "numbersOfDecimal = 250\n",
    "hex_numbers = hex(numbersOfDecimal)\n",
    "print(\"Nilai desimal dari\", numbersOfDecimal, \"diubah menjadi:\")\n",
    "print(hex_numbers, \"dalam hexadesimal.\")\n",
    "print(\"\\n\")\n",
    "# Bilangan Hexadesimal ke Bilangan Desimal\n",
    "print(\"Nilai hexadesimal dari\", hex_numbers, \"diubah menjadi:\")\n",
    "print(int(hex_numbers, 16), \"dalam desimal.\")"
   ]
  },
  {
   "cell_type": "code",
   "execution_count": 53,
   "id": "27419062",
   "metadata": {},
   "outputs": [
    {
     "name": "stdout",
     "output_type": "stream",
     "text": [
      "Nilai biner dari 0b11111111 diubah menjadi:\n",
      "0o377 dalam oktal.\n",
      "\n",
      "\n",
      "Nilai oktal dari 0o377 diubah menjadi:\n",
      "0b11111111 dalam biner.\n"
     ]
    }
   ],
   "source": [
    "# Bilangan Biner ke Bilangan Oktal\n",
    "numbersOfBinary = 0b11111111\n",
    "oct_numbers = oct(numbersOfBinary)\n",
    "print(\"Nilai biner dari\", bin(numbersOfBinary), \"diubah menjadi:\")\n",
    "print(oct_numbers, \"dalam oktal.\")\n",
    "print(\"\\n\")\n",
    "# Bilangan Oktal ke Bilangan Biner\n",
    "binNumbers = int(oct_numbers, 8)\n",
    "binNumbers = bin(binNumbers)\n",
    "print(\"Nilai oktal dari\", oct_numbers, \"diubah menjadi:\")\n",
    "print((binNumbers), \"dalam biner.\")"
   ]
  },
  {
   "cell_type": "code",
   "execution_count": 49,
   "id": "93513069",
   "metadata": {},
   "outputs": [
    {
     "name": "stdout",
     "output_type": "stream",
     "text": [
      "Nilai biner dari 0b11111111 diubah menjadi:\n",
      "0xff dalam hexadesimal.\n",
      "\n",
      "\n",
      "Nilai hexadesimal dari 0xff diubah menjadi:\n",
      "0b11111111 dalam biner.\n"
     ]
    }
   ],
   "source": [
    "# Bilangan Biner ke Bilangan Hexadesimal\n",
    "numbersOfBinary = 0b11111111\n",
    "hex_numbers = hex(numbersOfBinary)\n",
    "print(\"Nilai biner dari\", bin(numbersOfBinary), \"diubah menjadi:\")\n",
    "print(hex_numbers, \"dalam hexadesimal.\")\n",
    "print(\"\\n\")\n",
    "# Bilangan Hexadesimal ke Bilangan Biner\n",
    "binNumbers = int(hex_numbers, 16)\n",
    "binNumbers = bin(binNumbers)\n",
    "print(\"Nilai hexadesimal dari\", hex_numbers, \"diubah menjadi:\")\n",
    "print((binNumbers), \"dalam biner.\")"
   ]
  },
  {
   "cell_type": "code",
   "execution_count": 61,
   "id": "1bf078b5",
   "metadata": {},
   "outputs": [
    {
     "ename": "TypeError",
     "evalue": "int() can't convert non-string with explicit base",
     "output_type": "error",
     "traceback": [
      "\u001b[1;31m---------------------------------------------------------------------------\u001b[0m",
      "\u001b[1;31mTypeError\u001b[0m                                 Traceback (most recent call last)",
      "\u001b[1;32m~\\AppData\\Local\\Temp/ipykernel_9960/3840204372.py\u001b[0m in \u001b[0;36m<module>\u001b[1;34m\u001b[0m\n\u001b[0;32m      1\u001b[0m \u001b[1;31m# Bilangan Oktal ke Bilangan Hexadesimal\u001b[0m\u001b[1;33m\u001b[0m\u001b[1;33m\u001b[0m\u001b[1;33m\u001b[0m\u001b[0m\n\u001b[0;32m      2\u001b[0m \u001b[0mnumbersOfOct\u001b[0m \u001b[1;33m=\u001b[0m \u001b[1;36m50\u001b[0m\u001b[1;33m\u001b[0m\u001b[1;33m\u001b[0m\u001b[0m\n\u001b[1;32m----> 3\u001b[1;33m \u001b[0mhex_numbers\u001b[0m \u001b[1;33m=\u001b[0m \u001b[0mint\u001b[0m\u001b[1;33m(\u001b[0m\u001b[0mnumbersOfOct\u001b[0m\u001b[1;33m,\u001b[0m \u001b[1;36m8\u001b[0m\u001b[1;33m)\u001b[0m\u001b[1;33m\u001b[0m\u001b[1;33m\u001b[0m\u001b[0m\n\u001b[0m\u001b[0;32m      4\u001b[0m \u001b[0mhexNumbers\u001b[0m \u001b[1;33m=\u001b[0m \u001b[0mhex\u001b[0m\u001b[1;33m(\u001b[0m\u001b[0mhex_numbers\u001b[0m\u001b[1;33m)\u001b[0m\u001b[1;33m\u001b[0m\u001b[1;33m\u001b[0m\u001b[0m\n\u001b[0;32m      5\u001b[0m \u001b[0mprint\u001b[0m\u001b[1;33m(\u001b[0m\u001b[1;34m\"Nilai biner dari\"\u001b[0m\u001b[1;33m,\u001b[0m \u001b[0mnumbersOfOct\u001b[0m\u001b[1;33m,\u001b[0m \u001b[1;34m\"diubah menjadi:\"\u001b[0m\u001b[1;33m)\u001b[0m\u001b[1;33m\u001b[0m\u001b[1;33m\u001b[0m\u001b[0m\n",
      "\u001b[1;31mTypeError\u001b[0m: int() can't convert non-string with explicit base"
     ]
    }
   ],
   "source": [
    "# Bilangan Oktal ke Bilangan Hexadesimal\n",
    "numbersOfOct = 50\n",
    "hex_numbers = int(numbersOfOct, 8)\n",
    "hexNumbers = hex(hex_numbers)\n",
    "print(\"Nilai biner dari\", numbersOfOct, \"diubah menjadi:\")\n",
    "print(hex_numbers, \"dalam hexadesimal.\")\n",
    "print(\"\\n\")\n",
    "# Bilangan Hexadesimal ke Bilangan Oktal\n",
    "octNumbers = int(hex_numbers, 16)\n",
    "octNumbers = oct(octNumbers)\n",
    "print(\"Nilai hexadesimal dari\", hex_numbers, \"diubah menjadi:\")\n",
    "print((octNumbers), \"dalam oktal.\")"
   ]
  },
  {
   "cell_type": "code",
   "execution_count": 96,
   "id": "5d894545",
   "metadata": {
    "scrolled": true
   },
   "outputs": [
    {
     "name": "stdout",
     "output_type": "stream",
     "text": [
      "Nilai oktal dari 16206 diubah menjadi:\n",
      "0x1c86 dalam hexadesimal.\n",
      "\n",
      "\n",
      "Nilai hexadesimal dari 0x1c86 diubah menjadi:\n",
      "0o16206 dalam oktal.\n"
     ]
    }
   ],
   "source": [
    "# Bilangan Oktal ke Bilangan Hexadesimal\n",
    "numbersOfOct = 16206\n",
    "numbers = int(str(numbersOfOct), 8)\n",
    "hexNumbers = hex(numbers)\n",
    "print(\"Nilai oktal dari\", numbersOfOct, \"diubah menjadi:\")\n",
    "print(hexNumbers, \"dalam hexadesimal.\")\n",
    "print(\"\\n\")\n",
    "# Bilangan Hexadesimal ke Bilangan Oktal\n",
    "octNumbers = int(hexNumbers, 16)\n",
    "octNumbers = oct(octNumbers)\n",
    "print(\"Nilai hexadesimal dari\", hexNumbers, \"diubah menjadi:\")\n",
    "print(octNumbers, \"dalam oktal.\")"
   ]
  },
  {
   "cell_type": "code",
   "execution_count": 92,
   "id": "3af4b9d8",
   "metadata": {},
   "outputs": [
    {
     "ename": "TypeError",
     "evalue": "int() can't convert non-string with explicit base",
     "output_type": "error",
     "traceback": [
      "\u001b[1;31m---------------------------------------------------------------------------\u001b[0m",
      "\u001b[1;31mTypeError\u001b[0m                                 Traceback (most recent call last)",
      "\u001b[1;32m~\\AppData\\Local\\Temp/ipykernel_9960/182424232.py\u001b[0m in \u001b[0;36m<module>\u001b[1;34m\u001b[0m\n\u001b[0;32m      1\u001b[0m \u001b[1;31m# Bilangan Oktal ke Bilangan Hexadesimal\u001b[0m\u001b[1;33m\u001b[0m\u001b[1;33m\u001b[0m\u001b[1;33m\u001b[0m\u001b[0m\n\u001b[0;32m      2\u001b[0m \u001b[0mnumbersOfOct\u001b[0m \u001b[1;33m=\u001b[0m \u001b[1;36m16206\u001b[0m\u001b[1;33m\u001b[0m\u001b[1;33m\u001b[0m\u001b[0m\n\u001b[1;32m----> 3\u001b[1;33m \u001b[0mnumbers\u001b[0m \u001b[1;33m=\u001b[0m \u001b[0mint\u001b[0m\u001b[1;33m(\u001b[0m\u001b[0mnumbersOfOct\u001b[0m\u001b[1;33m,\u001b[0m \u001b[1;36m8\u001b[0m\u001b[1;33m)\u001b[0m\u001b[1;33m\u001b[0m\u001b[1;33m\u001b[0m\u001b[0m\n\u001b[0m\u001b[0;32m      4\u001b[0m \u001b[0mhexNumbers\u001b[0m \u001b[1;33m=\u001b[0m \u001b[0mhex\u001b[0m\u001b[1;33m(\u001b[0m\u001b[0mnumbers\u001b[0m\u001b[1;33m)\u001b[0m\u001b[1;33m\u001b[0m\u001b[1;33m\u001b[0m\u001b[0m\n\u001b[0;32m      5\u001b[0m \u001b[0mprint\u001b[0m\u001b[1;33m(\u001b[0m\u001b[1;34m\"Nilai oktal dari\"\u001b[0m\u001b[1;33m,\u001b[0m \u001b[0mnumbersOfOct\u001b[0m\u001b[1;33m,\u001b[0m \u001b[1;34m\"diubah menjadi:\"\u001b[0m\u001b[1;33m)\u001b[0m\u001b[1;33m\u001b[0m\u001b[1;33m\u001b[0m\u001b[0m\n",
      "\u001b[1;31mTypeError\u001b[0m: int() can't convert non-string with explicit base"
     ]
    }
   ],
   "source": []
  },
  {
   "cell_type": "code",
   "execution_count": 93,
   "id": "3ff77f40",
   "metadata": {},
   "outputs": [
    {
     "name": "stdout",
     "output_type": "stream",
     "text": [
      "Enter Octal Number: 7302\n",
      "\n",
      "Equivalent Hexadecimal Value = 0xec2\n"
     ]
    }
   ],
   "source": []
  },
  {
   "cell_type": "code",
   "execution_count": 95,
   "id": "740d5067",
   "metadata": {},
   "outputs": [
    {
     "name": "stdout",
     "output_type": "stream",
     "text": [
      "\n",
      "Equivalent Hexadecimal Value = 0xec2\n"
     ]
    }
   ],
   "source": []
  },
  {
   "cell_type": "code",
   "execution_count": null,
   "id": "8bde268d",
   "metadata": {},
   "outputs": [],
   "source": []
  }
 ],
 "metadata": {
  "kernelspec": {
   "display_name": "Python 3 (ipykernel)",
   "language": "python",
   "name": "python3"
  },
  "language_info": {
   "codemirror_mode": {
    "name": "ipython",
    "version": 3
   },
   "file_extension": ".py",
   "mimetype": "text/x-python",
   "name": "python",
   "nbconvert_exporter": "python",
   "pygments_lexer": "ipython3",
   "version": "3.8.11"
  }
 },
 "nbformat": 4,
 "nbformat_minor": 5
}
