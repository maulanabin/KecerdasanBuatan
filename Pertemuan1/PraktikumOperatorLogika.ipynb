{
 "cells": [
  {
   "cell_type": "code",
   "execution_count": 2,
   "id": "ccaa424f",
   "metadata": {},
   "outputs": [
    {
     "data": {
      "text/plain": [
       "12"
      ]
     },
     "execution_count": 2,
     "metadata": {},
     "output_type": "execute_result"
    }
   ],
   "source": [
    "a = 0b00111100\n",
    "b = 0b00001101\n",
    "a & b"
   ]
  },
  {
   "cell_type": "code",
   "execution_count": 3,
   "id": "404df640",
   "metadata": {},
   "outputs": [
    {
     "data": {
      "text/plain": [
       "61"
      ]
     },
     "execution_count": 3,
     "metadata": {},
     "output_type": "execute_result"
    }
   ],
   "source": [
    "a = 0b00111100\n",
    "b = 0b00001101\n",
    "a | b"
   ]
  },
  {
   "cell_type": "code",
   "execution_count": 4,
   "id": "ce5efa30",
   "metadata": {},
   "outputs": [
    {
     "data": {
      "text/plain": [
       "49"
      ]
     },
     "execution_count": 4,
     "metadata": {},
     "output_type": "execute_result"
    }
   ],
   "source": [
    "a = 0b00111100\n",
    "b = C\n",
    "a ^ b"
   ]
  },
  {
   "cell_type": "code",
   "execution_count": 5,
   "id": "88700b5b",
   "metadata": {},
   "outputs": [
    {
     "data": {
      "text/plain": [
       "-61"
      ]
     },
     "execution_count": 5,
     "metadata": {},
     "output_type": "execute_result"
    }
   ],
   "source": [
    "~a"
   ]
  },
  {
   "cell_type": "code",
   "execution_count": 4,
   "id": "d8fc34b0",
   "metadata": {},
   "outputs": [
    {
     "data": {
      "text/plain": [
       "'0b10100'"
      ]
     },
     "execution_count": 4,
     "metadata": {},
     "output_type": "execute_result"
    }
   ],
   "source": [
    "# Maulana Bintang Irfansyah - 15 - TI 2H\n",
    "x = 156\n",
    "y = 52\n",
    "bin(x & y) \n",
    "\n"
   ]
  },
  {
   "cell_type": "code",
   "execution_count": 8,
   "id": "cca1930c",
   "metadata": {},
   "outputs": [
    {
     "data": {
      "text/plain": [
       "'0b1100'"
      ]
     },
     "execution_count": 8,
     "metadata": {},
     "output_type": "execute_result"
    }
   ],
   "source": [
    "# Maulana Bintang Irfansyah - 15 - TI 2H\n",
    "\n",
    "#Operasi AND (&)\n",
    "a = 60 #0b00111100\n",
    "b = 13 #0b00111100\n",
    "bin(a & b)"
   ]
  },
  {
   "cell_type": "code",
   "execution_count": 9,
   "id": "e58d5b47",
   "metadata": {},
   "outputs": [
    {
     "data": {
      "text/plain": [
       "'0b111101'"
      ]
     },
     "execution_count": 9,
     "metadata": {},
     "output_type": "execute_result"
    }
   ],
   "source": [
    "#Operasi OR (|)\n",
    "a = 60 #0b00111100\n",
    "b = 13 #0b00111100\n",
    "bin(a | b)\n"
   ]
  },
  {
   "cell_type": "code",
   "execution_count": 10,
   "id": "c0812aa2",
   "metadata": {},
   "outputs": [
    {
     "data": {
      "text/plain": [
       "'0b110001'"
      ]
     },
     "execution_count": 10,
     "metadata": {},
     "output_type": "execute_result"
    }
   ],
   "source": [
    "#Operasi XOR (^)\n",
    "a = 60 #0b00111100\n",
    "b = 13 #0b00111100\n",
    "bin(a ^ b)"
   ]
  },
  {
   "cell_type": "code",
   "execution_count": 22,
   "id": "7c1d2f7b",
   "metadata": {},
   "outputs": [
    {
     "data": {
      "text/plain": [
       "'-0b10101'"
      ]
     },
     "execution_count": 22,
     "metadata": {},
     "output_type": "execute_result"
    }
   ],
   "source": [
    "#Operasi NOT (~)\n",
    "bin(~a)"
   ]
  },
  {
   "cell_type": "code",
   "execution_count": 17,
   "id": "d0353426",
   "metadata": {},
   "outputs": [
    {
     "name": "stdout",
     "output_type": "stream",
     "text": [
      "\n",
      "\n",
      "\n",
      "\n",
      "\n",
      "\n"
     ]
    },
    {
     "data": {
      "text/plain": [
       "'0b0'"
      ]
     },
     "execution_count": 17,
     "metadata": {},
     "output_type": "execute_result"
    }
   ],
   "source": [
    "#Operasi AND (&)\n",
    "a = 20\n",
    "b = 75\n",
    "bin(a & b)\n",
    "print(\"\\n\")\n",
    "#Operasi OR (|)\n",
    "a = 20\n",
    "b = 75\n",
    "bin(a | b)\n",
    "print(\"\\n\")\n",
    "#Operasi XOR (^)\n",
    "a = 20\n",
    "b = 75\n",
    "bin(a ^ b)\n",
    "print(\"\\n\")\n",
    "#Operasi NOT (~)\n",
    "a = 20\n",
    "b = 75\n",
    "bin(~a == ~b)"
   ]
  },
  {
   "cell_type": "code",
   "execution_count": 28,
   "id": "006d3704",
   "metadata": {},
   "outputs": [
    {
     "data": {
      "text/plain": [
       "'0b1000'"
      ]
     },
     "execution_count": 28,
     "metadata": {},
     "output_type": "execute_result"
    }
   ],
   "source": [
    "#Operasi AND (&)\n",
    "a = 15\n",
    "b = 40\n",
    "bin(a & b)"
   ]
  },
  {
   "cell_type": "code",
   "execution_count": 29,
   "id": "2c2258b2",
   "metadata": {},
   "outputs": [
    {
     "data": {
      "text/plain": [
       "'0b101111'"
      ]
     },
     "execution_count": 29,
     "metadata": {},
     "output_type": "execute_result"
    }
   ],
   "source": [
    "#Operasi OR (|)\n",
    "a = 15\n",
    "b = 40\n",
    "bin(a | b)"
   ]
  },
  {
   "cell_type": "code",
   "execution_count": 30,
   "id": "6a564820",
   "metadata": {},
   "outputs": [
    {
     "data": {
      "text/plain": [
       "'0b100111'"
      ]
     },
     "execution_count": 30,
     "metadata": {},
     "output_type": "execute_result"
    }
   ],
   "source": [
    "#Operasi XOR (^)\n",
    "a = 15\n",
    "b = 40\n",
    "bin(a ^ b)"
   ]
  },
  {
   "cell_type": "code",
   "execution_count": 31,
   "id": "4d44b694",
   "metadata": {},
   "outputs": [
    {
     "data": {
      "text/plain": [
       "'-0b10000'"
      ]
     },
     "execution_count": 31,
     "metadata": {},
     "output_type": "execute_result"
    }
   ],
   "source": [
    "#Operasi NOT (~)\n",
    "a = 15\n",
    "b = 40\n",
    "bin(~a)"
   ]
  },
  {
   "cell_type": "code",
   "execution_count": 46,
   "id": "8a116bbb",
   "metadata": {},
   "outputs": [
    {
     "name": "stdout",
     "output_type": "stream",
     "text": [
      "0x10\n"
     ]
    }
   ],
   "source": [
    "#Operasi AND (&)\n",
    "a = 0x50\n",
    "b = 0xBE\n",
    "bitwise_and = a & b\n",
    "hex_numbers = hex(bitwise_and)\n",
    "print(hex_numbers)"
   ]
  },
  {
   "cell_type": "code",
   "execution_count": 47,
   "id": "37945e61",
   "metadata": {},
   "outputs": [
    {
     "name": "stdout",
     "output_type": "stream",
     "text": [
      "0xfe\n"
     ]
    }
   ],
   "source": [
    "#Operasi OR (|)\n",
    "a = 0x50\n",
    "b = 0xBE\n",
    "bitwise_and = a | b\n",
    "hex_numbers = hex(bitwise_and)\n",
    "print(hex_numbers)"
   ]
  },
  {
   "cell_type": "code",
   "execution_count": 48,
   "id": "3e292200",
   "metadata": {},
   "outputs": [
    {
     "name": "stdout",
     "output_type": "stream",
     "text": [
      "0xee\n"
     ]
    }
   ],
   "source": [
    "#Operasi XOR (^)\n",
    "a = 0x50\n",
    "b = 0xBE\n",
    "bitwise_and = a ^ b\n",
    "hex_numbers = hex(bitwise_and)\n",
    "print(hex_numbers)"
   ]
  },
  {
   "cell_type": "code",
   "execution_count": 49,
   "id": "26f3fb2c",
   "metadata": {},
   "outputs": [
    {
     "name": "stdout",
     "output_type": "stream",
     "text": [
      "-0x51\n"
     ]
    }
   ],
   "source": [
    "#Operasi NOT (~)\n",
    "a = 0x50\n",
    "b = 0xBE\n",
    "bitwise_and = ~a\n",
    "hex_numbers = hex(bitwise_and)\n",
    "print(hex_numbers)"
   ]
  },
  {
   "cell_type": "code",
   "execution_count": null,
   "id": "394ce305",
   "metadata": {},
   "outputs": [],
   "source": []
  }
 ],
 "metadata": {
  "kernelspec": {
   "display_name": "Python 3 (ipykernel)",
   "language": "python",
   "name": "python3"
  },
  "language_info": {
   "codemirror_mode": {
    "name": "ipython",
    "version": 3
   },
   "file_extension": ".py",
   "mimetype": "text/x-python",
   "name": "python",
   "nbconvert_exporter": "python",
   "pygments_lexer": "ipython3",
   "version": "3.8.11"
  }
 },
 "nbformat": 4,
 "nbformat_minor": 5
}
