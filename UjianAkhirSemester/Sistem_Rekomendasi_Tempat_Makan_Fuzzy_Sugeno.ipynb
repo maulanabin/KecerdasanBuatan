{
  "nbformat": 4,
  "nbformat_minor": 0,
  "metadata": {
    "colab": {
      "name": "Sistem Rekomendasi Tempat Makan_Fuzzy Sugeno.ipynb",
      "provenance": [],
      "collapsed_sections": []
    },
    "kernelspec": {
      "name": "python392jvsc74a57bd0814d12259f8231896cbd61fdcfa13fb9f60bca0ace20e4cb9cb282a2368bc8fd",
      "display_name": "Python 3.9.2 64-bit"
    },
    "language_info": {
      "name": "python",
      "version": "3.9.2"
    },
    "metadata": {
      "interpreter": {
        "hash": "814d12259f8231896cbd61fdcfa13fb9f60bca0ace20e4cb9cb282a2368bc8fd"
      }
    }
  },
  "cells": [
    {
      "cell_type": "markdown",
      "metadata": {
        "id": "_QRNejqcXws9"
      },
      "source": [
        "# **LIBRARY**"
      ]
    },
    {
      "cell_type": "code",
      "metadata": {
        "id": "xKeRrsJFwM0u"
      },
      "source": [
        "import pandas as pd\n",
        "import numpy as np\n",
        "import matplotlib.pyplot as plt"
      ],
      "execution_count": null,
      "outputs": []
    },
    {
      "cell_type": "markdown",
      "metadata": {
        "id": "9wI8cc6lX_1k"
      },
      "source": [
        "# **READ DATA**"
      ]
    },
    {
      "cell_type": "code",
      "metadata": {
        "colab": {
          "base_uri": "https://localhost:8080/",
          "height": 651
        },
        "id": "V9CyAhZkwX90",
        "outputId": "5517b605-4952-4448-c7e5-7f09ea74fefa"
      },
      "source": [
        "data = pd.read_excel(\"tempat_makan.xlsx\")\n",
        "data"
      ],
      "execution_count": null,
      "outputs": [
        {
          "output_type": "execute_result",
          "data": {
            "text/html": [
              "\n",
              "  <div id=\"df-0e31341c-176a-4715-a0db-dc0a64535532\">\n",
              "    <div class=\"colab-df-container\">\n",
              "      <div>\n",
              "<style scoped>\n",
              "    .dataframe tbody tr th:only-of-type {\n",
              "        vertical-align: middle;\n",
              "    }\n",
              "\n",
              "    .dataframe tbody tr th {\n",
              "        vertical-align: top;\n",
              "    }\n",
              "\n",
              "    .dataframe thead th {\n",
              "        text-align: right;\n",
              "    }\n",
              "</style>\n",
              "<table border=\"1\" class=\"dataframe\">\n",
              "  <thead>\n",
              "    <tr style=\"text-align: right;\">\n",
              "      <th></th>\n",
              "      <th>nama_perusahaan</th>\n",
              "      <th>alamat</th>\n",
              "      <th>ket</th>\n",
              "      <th>id</th>\n",
              "      <th>pelayanan</th>\n",
              "      <th>makanan</th>\n",
              "    </tr>\n",
              "  </thead>\n",
              "  <tbody>\n",
              "    <tr>\n",
              "      <th>0</th>\n",
              "      <td>ABUBA STEAK</td>\n",
              "      <td>Jl. Prabudimuntur No. 12</td>\n",
              "      <td>-</td>\n",
              "      <td>1</td>\n",
              "      <td>58</td>\n",
              "      <td>7</td>\n",
              "    </tr>\n",
              "    <tr>\n",
              "      <th>1</th>\n",
              "      <td>ARDEN CAFÉ</td>\n",
              "      <td>Jl. Sukajadi No. 228</td>\n",
              "      <td>-</td>\n",
              "      <td>2</td>\n",
              "      <td>54</td>\n",
              "      <td>1</td>\n",
              "    </tr>\n",
              "    <tr>\n",
              "      <th>2</th>\n",
              "      <td>ATMOSPHERE</td>\n",
              "      <td>Jl. Lengkong Besar No. 97</td>\n",
              "      <td>-</td>\n",
              "      <td>3</td>\n",
              "      <td>98</td>\n",
              "      <td>2</td>\n",
              "    </tr>\n",
              "    <tr>\n",
              "      <th>3</th>\n",
              "      <td>B.M.C.</td>\n",
              "      <td>Jl. Aceh No. 30</td>\n",
              "      <td>-</td>\n",
              "      <td>4</td>\n",
              "      <td>52</td>\n",
              "      <td>4</td>\n",
              "    </tr>\n",
              "    <tr>\n",
              "      <th>4</th>\n",
              "      <td>BANDUNG SUKI</td>\n",
              "      <td>Jl. Braga No. 70</td>\n",
              "      <td>-</td>\n",
              "      <td>5</td>\n",
              "      <td>11</td>\n",
              "      <td>4</td>\n",
              "    </tr>\n",
              "    <tr>\n",
              "      <th>...</th>\n",
              "      <td>...</td>\n",
              "      <td>...</td>\n",
              "      <td>...</td>\n",
              "      <td>...</td>\n",
              "      <td>...</td>\n",
              "      <td>...</td>\n",
              "    </tr>\n",
              "    <tr>\n",
              "      <th>95</th>\n",
              "      <td>HOKA HOKA BENTO</td>\n",
              "      <td>Jl. DR. Setiabudhi No. 302 A</td>\n",
              "      <td>-</td>\n",
              "      <td>96</td>\n",
              "      <td>30</td>\n",
              "      <td>1</td>\n",
              "    </tr>\n",
              "    <tr>\n",
              "      <th>96</th>\n",
              "      <td>HOKA HOKA BENTO</td>\n",
              "      <td>Jl. Merdeka No. 47</td>\n",
              "      <td>-</td>\n",
              "      <td>97</td>\n",
              "      <td>25</td>\n",
              "      <td>3</td>\n",
              "    </tr>\n",
              "    <tr>\n",
              "      <th>97</th>\n",
              "      <td>HOKA HOKA BENTO</td>\n",
              "      <td>Jl. Buah Batu No. 273</td>\n",
              "      <td>-</td>\n",
              "      <td>98</td>\n",
              "      <td>27</td>\n",
              "      <td>10</td>\n",
              "    </tr>\n",
              "    <tr>\n",
              "      <th>98</th>\n",
              "      <td>HOKA HOKA BENTO</td>\n",
              "      <td>Jl. Kepatihan No. 11-17</td>\n",
              "      <td>-</td>\n",
              "      <td>99</td>\n",
              "      <td>8</td>\n",
              "      <td>6</td>\n",
              "    </tr>\n",
              "    <tr>\n",
              "      <th>99</th>\n",
              "      <td>HOKA HOKA BENTO</td>\n",
              "      <td>Jl. Soekarno Hatta No. 590 MTC</td>\n",
              "      <td>-</td>\n",
              "      <td>100</td>\n",
              "      <td>11</td>\n",
              "      <td>8</td>\n",
              "    </tr>\n",
              "  </tbody>\n",
              "</table>\n",
              "<p>100 rows × 6 columns</p>\n",
              "</div>\n",
              "      <button class=\"colab-df-convert\" onclick=\"convertToInteractive('df-0e31341c-176a-4715-a0db-dc0a64535532')\"\n",
              "              title=\"Convert this dataframe to an interactive table.\"\n",
              "              style=\"display:none;\">\n",
              "        \n",
              "  <svg xmlns=\"http://www.w3.org/2000/svg\" height=\"24px\"viewBox=\"0 0 24 24\"\n",
              "       width=\"24px\">\n",
              "    <path d=\"M0 0h24v24H0V0z\" fill=\"none\"/>\n",
              "    <path d=\"M18.56 5.44l.94 2.06.94-2.06 2.06-.94-2.06-.94-.94-2.06-.94 2.06-2.06.94zm-11 1L8.5 8.5l.94-2.06 2.06-.94-2.06-.94L8.5 2.5l-.94 2.06-2.06.94zm10 10l.94 2.06.94-2.06 2.06-.94-2.06-.94-.94-2.06-.94 2.06-2.06.94z\"/><path d=\"M17.41 7.96l-1.37-1.37c-.4-.4-.92-.59-1.43-.59-.52 0-1.04.2-1.43.59L10.3 9.45l-7.72 7.72c-.78.78-.78 2.05 0 2.83L4 21.41c.39.39.9.59 1.41.59.51 0 1.02-.2 1.41-.59l7.78-7.78 2.81-2.81c.8-.78.8-2.07 0-2.86zM5.41 20L4 18.59l7.72-7.72 1.47 1.35L5.41 20z\"/>\n",
              "  </svg>\n",
              "      </button>\n",
              "      \n",
              "  <style>\n",
              "    .colab-df-container {\n",
              "      display:flex;\n",
              "      flex-wrap:wrap;\n",
              "      gap: 12px;\n",
              "    }\n",
              "\n",
              "    .colab-df-convert {\n",
              "      background-color: #E8F0FE;\n",
              "      border: none;\n",
              "      border-radius: 50%;\n",
              "      cursor: pointer;\n",
              "      display: none;\n",
              "      fill: #1967D2;\n",
              "      height: 32px;\n",
              "      padding: 0 0 0 0;\n",
              "      width: 32px;\n",
              "    }\n",
              "\n",
              "    .colab-df-convert:hover {\n",
              "      background-color: #E2EBFA;\n",
              "      box-shadow: 0px 1px 2px rgba(60, 64, 67, 0.3), 0px 1px 3px 1px rgba(60, 64, 67, 0.15);\n",
              "      fill: #174EA6;\n",
              "    }\n",
              "\n",
              "    [theme=dark] .colab-df-convert {\n",
              "      background-color: #3B4455;\n",
              "      fill: #D2E3FC;\n",
              "    }\n",
              "\n",
              "    [theme=dark] .colab-df-convert:hover {\n",
              "      background-color: #434B5C;\n",
              "      box-shadow: 0px 1px 3px 1px rgba(0, 0, 0, 0.15);\n",
              "      filter: drop-shadow(0px 1px 2px rgba(0, 0, 0, 0.3));\n",
              "      fill: #FFFFFF;\n",
              "    }\n",
              "  </style>\n",
              "\n",
              "      <script>\n",
              "        const buttonEl =\n",
              "          document.querySelector('#df-0e31341c-176a-4715-a0db-dc0a64535532 button.colab-df-convert');\n",
              "        buttonEl.style.display =\n",
              "          google.colab.kernel.accessAllowed ? 'block' : 'none';\n",
              "\n",
              "        async function convertToInteractive(key) {\n",
              "          const element = document.querySelector('#df-0e31341c-176a-4715-a0db-dc0a64535532');\n",
              "          const dataTable =\n",
              "            await google.colab.kernel.invokeFunction('convertToInteractive',\n",
              "                                                     [key], {});\n",
              "          if (!dataTable) return;\n",
              "\n",
              "          const docLinkHtml = 'Like what you see? Visit the ' +\n",
              "            '<a target=\"_blank\" href=https://colab.research.google.com/notebooks/data_table.ipynb>data table notebook</a>'\n",
              "            + ' to learn more about interactive tables.';\n",
              "          element.innerHTML = '';\n",
              "          dataTable['output_type'] = 'display_data';\n",
              "          await google.colab.output.renderOutput(dataTable, element);\n",
              "          const docLink = document.createElement('div');\n",
              "          docLink.innerHTML = docLinkHtml;\n",
              "          element.appendChild(docLink);\n",
              "        }\n",
              "      </script>\n",
              "    </div>\n",
              "  </div>\n",
              "  "
            ],
            "text/plain": [
              "    nama_perusahaan                          alamat  ... pelayanan  makanan\n",
              "0       ABUBA STEAK        Jl. Prabudimuntur No. 12  ...        58        7\n",
              "1        ARDEN CAFÉ            Jl. Sukajadi No. 228  ...        54        1\n",
              "2        ATMOSPHERE       Jl. Lengkong Besar No. 97  ...        98        2\n",
              "3            B.M.C.                 Jl. Aceh No. 30  ...        52        4\n",
              "4      BANDUNG SUKI                Jl. Braga No. 70  ...        11        4\n",
              "..              ...                             ...  ...       ...      ...\n",
              "95  HOKA HOKA BENTO    Jl. DR. Setiabudhi No. 302 A  ...        30        1\n",
              "96  HOKA HOKA BENTO              Jl. Merdeka No. 47  ...        25        3\n",
              "97  HOKA HOKA BENTO           Jl. Buah Batu No. 273  ...        27       10\n",
              "98  HOKA HOKA BENTO         Jl. Kepatihan No. 11-17  ...         8        6\n",
              "99  HOKA HOKA BENTO  Jl. Soekarno Hatta No. 590 MTC  ...        11        8\n",
              "\n",
              "[100 rows x 6 columns]"
            ]
          },
          "metadata": {},
          "execution_count": 3
        }
      ]
    },
    {
      "cell_type": "markdown",
      "metadata": {
        "id": "bmUN4cS1KnLE"
      },
      "source": [
        "# **MEMBERSHIP**"
      ]
    },
    {
      "cell_type": "markdown",
      "metadata": {
        "id": "puffLA0dLAGz"
      },
      "source": [
        "\n",
        "\n",
        "*   MEMBERSHIP MAKANAN\n",
        "\n"
      ]
    },
    {
      "cell_type": "code",
      "metadata": {
        "id": "U6T2PuqIy59A"
      },
      "source": [
        "def poorFood(f):\n",
        "    poorFood, notpoorFood = 4, 6\n",
        "\n",
        "    if f <= poorFood:\n",
        "        return 1\n",
        "    elif f > notpoorFood:\n",
        "        return 0\n",
        "    elif f > poorFood and f <= notpoorFood:\n",
        "        return ((notpoorFood - f) / (notpoorFood - poorFood))\n",
        "\n",
        "\n",
        "def goodFood(f):\n",
        "    notgoodFood1, goodFood1, goodFood2, notgoodFood2 = 4, 6, 7, 9\n",
        "\n",
        "    if f > goodFood1 and f <= goodFood2:\n",
        "        return 1\n",
        "    elif f <= notgoodFood1 or f > notgoodFood2:\n",
        "        return 0\n",
        "    elif f > notgoodFood1 and f <= goodFood1:\n",
        "        return ((f - notgoodFood1) / (goodFood1 - notgoodFood1))\n",
        "    elif f > goodFood2 and f <= notgoodFood2:\n",
        "        return ((notgoodFood2 - f) / (notgoodFood2 - goodFood2))\n",
        "\n",
        "\n",
        "def excellentFood(f):\n",
        "    notexcellentFood, excellentFood = 6, 8\n",
        "\n",
        "    if f > excellentFood:\n",
        "        return 1\n",
        "    elif f <= notexcellentFood:\n",
        "        return 0\n",
        "    elif f > notexcellentFood and f <= excellentFood:\n",
        "        return ((f - notexcellentFood) / (excellentFood - notexcellentFood))\n"
      ],
      "execution_count": null,
      "outputs": []
    },
    {
      "cell_type": "code",
      "metadata": {
        "id": "tZYS8j9UgbMF",
        "colab": {
          "base_uri": "https://localhost:8080/",
          "height": 319
        },
        "outputId": "ae785627-07fb-4804-cc56-22deea6f28c3"
      },
      "source": [
        "# plot grafik membership makanan\n",
        "\n",
        "x = [i for i in range(11)]\n",
        "\n",
        "ypoorF = [poorFood(i) for i in x]\n",
        "ygoodF = [goodFood(i) for i in x]\n",
        "yexcellentF = [excellentFood(i) for i in x]\n",
        "\n",
        "plt.figure(figsize=(10,4))\n",
        "plt.title('Membership Makanan',fontsize = 20) \n",
        "plt.plot(x, ypoorF, label = 'Poor Food')\n",
        "plt.plot(x, ygoodF, label = 'Good Food')\n",
        "plt.plot(x, yexcellentF, label = 'Excellent Food')\n",
        "plt.xlabel('Nilai')\n",
        "plt.ylabel(r'$\\mu\\ (x)$')\n",
        "plt.legend()"
      ],
      "execution_count": null,
      "outputs": [
        {
          "output_type": "execute_result",
          "data": {
            "text/plain": [
              "<matplotlib.legend.Legend at 0x7f4ca51e7910>"
            ]
          },
          "metadata": {},
          "execution_count": 5
        },
        {
          "output_type": "display_data",
          "data": {
            "image/png": "[encoded data removed]",
            "text/plain": [
              "<Figure size 720x288 with 1 Axes>"
            ]
          },
          "metadata": {
            "needs_background": "light"
          }
        }
      ]
    },
    {
      "cell_type": "markdown",
      "metadata": {
        "id": "9ayh7ZGVLNGJ"
      },
      "source": [
        "*   MEMBERSHIP PELAYANAN\n",
        "\n"
      ]
    },
    {
      "cell_type": "code",
      "metadata": {
        "id": "JkdMYLVFAiAu"
      },
      "source": [
        "def PoorService(x):\n",
        "  poorService = 50\n",
        "  notpoorService = 67\n",
        "\n",
        "  if x <= poorService:\n",
        "    return 1;\n",
        "  elif x > notpoorService:\n",
        "    return 0\n",
        "  elif x > poorService and x <= notpoorService:\n",
        "    return (notpoorService - x) / (notpoorService - poorService)\n",
        "\n",
        "def GoodService(x):\n",
        "  notgoodService1 = 50\n",
        "  goodService1 = 60\n",
        "  goodService2 = 70\n",
        "  notgoodService2 = 85\n",
        "\n",
        "  if x > goodService1 and x <= goodService2:\n",
        "    return 1\n",
        "  elif x <= notgoodService1 or x > notgoodService2:\n",
        "    return 0\n",
        "  elif x > notgoodService1 and x <= goodService1:\n",
        "    return (x - notgoodService1) / (goodService1 - notgoodService1)\n",
        "  elif x > goodService2 and x <= notgoodService2:\n",
        "    return (x - notgoodService1) / (goodService1 - notgoodService1)\n",
        "\n",
        "def ExcellentService(x):\n",
        "  notexcellentService = 75\n",
        "  excellentService = 80\n",
        "\n",
        "  if x > excellentService:\n",
        "    return 1\n",
        "  elif x <= notexcellentService:\n",
        "    return 0\n",
        "  elif x > notexcellentService and x <= excellentService:\n",
        "    return (x - notexcellentService) / (excellentService - notexcellentService)"
      ],
      "execution_count": null,
      "outputs": []
    },
    {
      "cell_type": "code",
      "metadata": {
        "id": "QI0ry3URfIMA",
        "colab": {
          "base_uri": "https://localhost:8080/",
          "height": 319
        },
        "outputId": "f3021768-26df-40bb-b7a4-fc5929950ff7"
      },
      "source": [
        "# plot grafik membership pelayanan\n",
        "\n",
        "x = [i for i in range(101)]\n",
        "\n",
        "ypoorS = [PoorService(i) for i in x]\n",
        "ygoodS = [GoodService(i) for i in x]\n",
        "yexcellentS = [ExcellentService(i) for i in x]\n",
        "\n",
        "plt.figure(figsize=(10,4))\n",
        "plt.title('Membership Pelayanan',fontsize = 20) \n",
        "plt.plot(x, ypoorS, label = 'Poor Service')\n",
        "plt.plot(x, ygoodS, label = 'Good Service')\n",
        "plt.plot(x, yexcellentS, label = 'Excellent Service')\n",
        "plt.xlabel('Nilai')\n",
        "plt.ylabel(r'$\\mu\\ (x)$')\n",
        "plt.legend()"
      ],
      "execution_count": null,
      "outputs": [
        {
          "output_type": "execute_result",
          "data": {
            "text/plain": [
              "<matplotlib.legend.Legend at 0x7f4ca51581d0>"
            ]
          },
          "metadata": {},
          "execution_count": 7
        },
        {
          "output_type": "display_data",
          "data": {
            "image/png": "[encoded data removed]",
            "text/plain": [
              "<Figure size 720x288 with 1 Axes>"
            ]
          },
          "metadata": {
            "needs_background": "light"
          }
        }
      ]
    },
    {
      "cell_type": "markdown",
      "metadata": {
        "id": "UvNTAMVzKRzY"
      },
      "source": [
        "# **FUZZIFICATION**"
      ]
    },
    {
      "cell_type": "code",
      "metadata": {
        "id": "95ro0uapjS9j"
      },
      "source": [
        "def fuzzificationFood(foodValue):\n",
        "  foodSet = []\n",
        "  foodSet.append(poorFood(foodValue))\n",
        "  foodSet.append(goodFood(foodValue))\n",
        "  foodSet.append(excellentFood(foodValue))\n",
        "  return foodSet\n",
        "\n",
        "def fuzzificationService(serviceValue):\n",
        "  serviceSet = []\n",
        "  serviceSet.append(PoorService(serviceValue))\n",
        "  serviceSet.append(GoodService(serviceValue))\n",
        "  serviceSet.append(ExcellentService(serviceValue))\n",
        "  return serviceSet\n"
      ],
      "execution_count": null,
      "outputs": []
    },
    {
      "cell_type": "markdown",
      "metadata": {
        "id": "ZvHbFWsdKFkN"
      },
      "source": [
        "# **INFERENCE**"
      ]
    },
    {
      "cell_type": "markdown",
      "source": [
        "![RULES RESTAURANT.JPG](data:image/jpeg;base64,/9j/4AAQSkZJRgABAQEAeAB4AAD/4RD6RXhpZgAATU0AKgAAAAgABAE7AAIAAAAQAAAISodpAAQAAAABAAAIWpydAAEAAAAgAAAQ0uocAAcAAAgMAAAAPgAAAAAc6gAAAAgAAAAAAAAAAAAAAAAAAAAAAAAAAAAAAAAAAAAAAAAAAAAAAAAAAAAAAAAAAAAAAAAAAAAAAAAAAAAAAAAAAAAAAAAAAAAAAAAAAAAAAAAAAAAAAAAAAAAAAAAAAAAAAAAAAAAAAAAAAAAAAAAAAAAAAAAAAAAAAAAAAAAAAAAAAAAAAAAAAAAAAAAAAAAAAAAAAAAAAAAAAAAAAAAAAAAAAAAAAAAAAAAAAAAAAAAAAAAAAAAAAAAAAAAAAAAAAAAAAAAAAAAAAAAAAAAAAAAAAAAAAAAAAAAAAAAAAAAAAAAAAAAAAAAAAAAAAAAAAAAAAAAAAAAAAAAAAAAAAAAAAAAAAAAAAAAAAAAAAAAAAAAAAAAAAAAAAAAAAAAAAAAAAAAAAAAAAAAAAAAAAAAAAAAAAAAAAAAAAAAAAAAAAAAAAAAAAAAAAAAAAAAAAAAAAAAAAAAAAAAAAAAAAAAAAAAAAAAAAAAAAAAAAAAAAAAAAAAAAAAAAAAAAAAAAAAAAAAAAAAAAAAAAAAAAAAAAAAAAAAAAAAAAAAAAAAAAAAAAAAAAAAAAAAAAAAAAAAAAAAAAAAAAAAAAAAAAAAAAAAAAAAAAAAAAAAAAAAAAAAAAAAAAAAAAAAAAAAAAAAAAAAAAAAAAAAAAAAAAAAAAAAAAAAAAAAAAAAAAAAAAAAAAAAAAAAAAAAAAAAAAAAAAAAAAAAAAAAAAAAAAAAAAAAAAAAAAAAAAAAAAAAAAAAAAAAAAAAAAAAAAAAAAAAAAAAAAAAAAAAAAAAAAAAAAAAAAAAAAAAAAAAAAAAAAAAAAAAAAAAAAAAAAAAAAAAAAAAAAAAAAAAAAAAAAAAAAAAAAAAAAAAAAAAAAAAAAAAAAAAAAAAAAAAAAAAAAAAAAAAAAAAAAAAAAAAAAAAAAAAAAAAAAAAAAAAAAAAAAAAAAAAAAAAAAAAAAAAAAAAAAAAAAAAAAAAAAAAAAAAAAAAAAAAAAAAAAAAAAAAAAAAAAAAAAAAAAAAAAAAAAAAAAAAAAAAAAAAAAAAAAAAAAAAAAAAAAAAAAAAAAAAAAAAAAAAAAAAAAAAAAAAAAAAAAAAAAAAAAAAAAAAAAAAAAAAAAAAAAAAAAAAAAAAAAAAAAAAAAAAAAAAAAAAAAAAAAAAAAAAAAAAAAAAAAAAAAAAAAAAAAAAAAAAAAAAAAAAAAAAAAAAAAAAAAAAAAAAAAAAAAAAAAAAAAAAAAAAAAAAAAAAAAAAAAAAAAAAAAAAAAAAAAAAAAAAAAAAAAAAAAAAAAAAAAAAAAAAAAAAAAAAAAAAAAAAAAAAAAAAAAAAAAAAAAAAAAAAAAAAAAAAAAAAAAAAAAAAAAAAAAAAAAAAAAAAAAAAAAAAAAAAAAAAAAAAAAAAAAAAAAAAAAAAAAAAAAAAAAAAAAAAAAAAAAAAAAAAAAAAAAAAAAAAAAAAAAAAAAAAAAAAAAAAAAAAAAAAAAAAAAAAAAAAAAAAAAAAAAAAAAAAAAAAAAAAAAAAAAAAAAAAAAAAAAAAAAAAAAAAAAAAAAAAAAAAAAAAAAAAAAAAAAAAAAAAAAAAAAAAAAAAAAAAAAAAAAAAAAAAAAAAAAAAAAAAAAAAAAAAAAAAAAAAAAAAAAAAAAAAAAAAAAAAAAAAAAAAAAAAAAAAAAAAAAAAAAAAAAAAAAAAAAAAAAAAAAAAAAAAAAAAAAAAAAAAAAAAAAAAAAAAAAAAAAAAAAAAAAAAAAAAAAAAAAAAAAAAAAAAAAAAAAAAAAAAAAAAAAAAAAAAAAAAAAAAAAAAAAAAAAAAAAAAAAAAAAAAAAAAAAAAAAAAAAAAAAAAAAAAAAAAAAAAAAAAAAAAAAAAAAAAAAAAAAAAAAAAAAAAAAAAAAAAAAAAAAAAAAAAAAAAAAAAAAAAAAAAAAAAAAAAAAAAAAAAAAAAAAAAAAAAAAAAAAAAAAAAAAAAAAAAAAAAAAAAAAAAAAAAAAAAAAAAAAAAAAAAAAAAAAAAAAAAAAAAAAAAAAAAAAAAAAAAAAAAAAAAAAAAAAAAAAAAAAAAAAAAAAAAAAAAAAAAAAAAAAAAAAAAAAAAAAAAAAAAAAAAAAAAAAAAAAAAAAAAAAAAAAAAAAAAAAAAAAAAAAAAAAAAAAAAAAAAAAAAAAAAAAAAAAAAAAAAAAAAAAAAAAAAAAAAAAAAAAAAAAAAAAAAAAAAAAAAAAAAAAAAAAAAAAAAAAAAAAAAAAAAAAAAAAAAAAAAAAAAAAAAAAAAAAAAAAAAAAAAAAAAAAAAAAAAAAAAAAAAAAAAAAAAAAAAAAAAAAAAAAAAAAAAAAAAAAAAAAAAAAAAAAAAAAAAAAAAAAAAAAAAAAAAAAAAAAAAAAAAAAAAAAAAAAAAAAAAAAAAAAAAAAAAAAAAAAAAAAAAAAAAAAAAAAAAAAAAAAAAAAAAAAAAAAAAAAAAAAAAAAAAAAAAAAAAAAAAAAAAAAAAAAAAAAAAAAAAAAAAAAAAAAAAAAAAAAAAAAAAAAAAAAAAAAAAAAAAAAAAAAAAAAAAAAAAAAAAAAAAAAAAAAAAAAAAAAAAAAAAAAAAAAAAAAAAAAAAAAAAAAAAAAAAAAAAAAAAAAAAAAAAAAAAAAAAAAAAAAAAAAAAAAAAAAAAAAAAAAAAAAAAAAAAAAAAAAAAAAAAAAAAAAAAAAAAAAAAAAAAAAAAAAAAAAAAAAAAAAAAAAAAAAAAAAAAAAAAAAAAAAAAAAE1hdWxhbmEgQmludGFuZwAABZADAAIAAAAUAAAQqJAEAAIAAAAUAAAQvJKRAAIAAAADMzMAAJKSAAIAAAADMzMAAOocAAcAAAgMAAAInAAAAAAc6gAAAAgAAAAAAAAAAAAAAAAAAAAAAAAAAAAAAAAAAAAAAAAAAAAAAAAAAAAAAAAAAAAAAAAAAAAAAAAAAAAAAAAAAAAAAAAAAAAAAAAAAAAAAAAAAAAAAAAAAAAAAAAAAAAAAAAAAAAAAAAAAAAAAAAAAAAAAAAAAAAAAAAAAAAAAAAAAAAAAAAAAAAAAAAAAAAAAAAAAAAAAAAAAAAAAAAAAAAAAAAAAAAAAAAAAAAAAAAAAAAAAAAAAAAAAAAAAAAAAAAAAAAAAAAAAAAAAAAAAAAAAAAAAAAAAAAAAAAAAAAAAAAAAAAAAAAAAAAAAAAAAAAAAAAAAAAAAAAAAAAAAAAAAAAAAAAAAAAAAAAAAAAAAAAAAAAAAAAAAAAAAAAAAAAAAAAAAAAAAAAAAAAAAAAAAAAAAAAAAAAAAAAAAAAAAAAAAAAAAAAAAAAAAAAAAAAAAAAAAAAAAAAAAAAAAAAAAAAAAAAAAAAAAAAAAAAAAAAAAAAAAAAAAAAAAAAAAAAAAAAAAAAAAAAAAAAAAAAAAAAAAAAAAAAAAAAAAAAAAAAAAAAAAAAAAAAAAAAAAAAAAAAAAAAAAAAAAAAAAAAAAAAAAAAAAAAAAAAAAAAAAAAAAAAAAAAAAAAAAAAAAAAAAAAAAAAAAAAAAAAAAAAAAAAAAAAAAAAAAAAAAAAAAAAAAAAAAAAAAAAAAAAAAAAAAAAAAAAAAAAAAAAAAAAAAAAAAAAAAAAAAAAAAAAAAAAAAAAAAAAAAAAAAAAAAAAAAAAAAAAAAAAAAAAAAAAAAAAAAAAAAAAAAAAAAAAAAAAAAAAAAAAAAAAAAAAAAAAAAAAAAAAAAAAAAAAAAAAAAAAAAAAAAAAAAAAAAAAAAAAAAAAAAAAAAAAAAAAAAAAAAAAAAAAAAAAAAAAAAAAAAAAAAAAAAAAAAAAAAAAAAAAAAAAAAAAAAAAAAAAAAAAAAAAAAAAAAAAAAAAAAAAAAAAAAAAAAAAAAAAAAAAAAAAAAAAAAAAAAAAAAAAAAAAAAAAAAAAAAAAAAAAAAAAAAAAAAAAAAAAAAAAAAAAAAAAAAAAAAAAAAAAAAAAAAAAAAAAAAAAAAAAAAAAAAAAAAAAAAAAAAAAAAAAAAAAAAAAAAAAAAAAAAAAAAAAAAAAAAAAAAAAAAAAAAAAAAAAAAAAAAAAAAAAAAAAAAAAAAAAAAAAAAAAAAAAAAAAAAAAAAAAAAAAAAAAAAAAAAAAAAAAAAAAAAAAAAAAAAAAAAAAAAAAAAAAAAAAAAAAAAAAAAAAAAAAAAAAAAAAAAAAAAAAAAAAAAAAAAAAAAAAAAAAAAAAAAAAAAAAAAAAAAAAAAAAAAAAAAAAAAAAAAAAAAAAAAAAAAAAAAAAAAAAAAAAAAAAAAAAAAAAAAAAAAAAAAAAAAAAAAAAAAAAAAAAAAAAAAAAAAAAAAAAAAAAAAAAAAAAAAAAAAAAAAAAAAAAAAAAAAAAAAAAAAAAAAAAAAAAAAAAAAAAAAAAAAAAAAAAAAAAAAAAAAAAAAAAAAAAAAAAAAAAAAAAAAAAAAAAAAAAAAAAAAAAAAAAAAAAAAAAAAAAAAAAAAAAAAAAAAAAAAAAAAAAAAAAAAAAAAAAAAAAAAAAAAAAAAAAAAAAAAAAAAAAAAAAAAAAAAAAAAAAAAAAAAAAAAAAAAAAAAAAAAAAAAAAAAAAAAAAAAAAAAAAAAAAAAAAAAAAAAAAAAAAAAAAAAAAAAAAAAAAAAAAAAAAAAAAAAAAAAAAAAAAAAAAAAAAAAAAAAAAAAAAAAAAAAAAAAAAAAAAAAAAAAAAAAAAAAAAAAAAAAAAAAAAAAAAAAAAAAAAAAAAAAAAAAAAAAAAAAAAAAAAAAAAAAAAAAAAAAAAAAAAAAAAAAAAAAAAAAAAAAAAAAAAAAAAAAAAAAAAAAAAAAAAAAAAAAAAAAAAAAAAAAAAAAAAAAAAAAAAAAAAAAAAAAAAAAAAAAAAAAAAAAAAAAAAAAAAAAAAAAAAAAAAAAAAAAAAAAAAAAAAAAAAAAAAAAAAAAAAAAAAAAAAAAAAAAAAAAAAAAAAAAAAAAAAAAAAAAAAAAAAAAAAAAAAAAAAAAAAAAAAAAAAAAAAAAAAAAAAAAAAAAAAAAAAAAAAAAAAAAAAAAAAAAAAAAAAAAAAAAAAAAAAAAAAAAAAAAAAAAAAAAAAAAAAAAAAAAAAAAAAAAAAAAAAAAAAAAAAAAAAAAAAAAAAAAAAAAAAAAAAAAAAAAAAAAAAAAAAAAAAAAAAAAAAAAAAAAAAAAAAAAAAAAAAAAAAAAAAAAAAAAAAAAAAAAAAAAAAAAAAAAAAAAAAAAAAAAAAAAAAAAAAAAAAAAAAAAAAAAAAAAAAAAAAAAAAAAAAAAAAAAAAAAAAAAAAAAAAAAAAAAAAAAAAAAAAAAAAAAAAAAAAAAAAAAAAAAAAAAAAAAAAAAAAAAAAAAAAAAAAAAAAAAAAAAAAAAAAAAAAAAAAAAAAAAAAAAAAAAAAAAAAAAAAAAAAAAAAAAAAAAAAAAAAAAAAAAAAAAAAAAAAAAAAAAAAAAAAAAAAAAAAAAAAAAAAAAAAAAAAAAAAAAAAAAAAAAAAAAAAAAAAAAAAAAAAAAAAAAAAAAAAAAAAAAAAAAAAAAAAAAAAAAAAAAAAAAAAAAAAAAAAAAAAAAAAAAAAAAAAAAAAAAAAAAAAAAAAAAAAAAAAAAAAAAAAAAAAAAAAAAAAAAAAAADIwMjE6MTI6MjggMTM6Mjc6NDUAMjAyMToxMjoyOCAxMzoyNzo0NQAAAE0AYQB1AGwAYQBuAGEAIABCAGkAbgB0AGEAbgBnAAAA/+ELImh0dHA6Ly9ucy5hZG9iZS5jb20veGFwLzEuMC8APD94cGFja2V0IGJlZ2luPSfvu78nIGlkPSdXNU0wTXBDZWhpSHpyZVN6TlRjemtjOWQnPz4NCjx4OnhtcG1ldGEgeG1sbnM6eD0iYWRvYmU6bnM6bWV0YS8iPjxyZGY6UkRGIHhtbG5zOnJkZj0iaHR0cDovL3d3dy53My5vcmcvMTk5OS8wMi8yMi1yZGYtc3ludGF4LW5zIyI+PHJkZjpEZXNjcmlwdGlvbiByZGY6YWJvdXQ9InV1aWQ6ZmFmNWJkZDUtYmEzZC0xMWRhLWFkMzEtZDMzZDc1MTgyZjFiIiB4bWxuczpkYz0iaHR0cDovL3B1cmwub3JnL2RjL2VsZW1lbnRzLzEuMS8iLz48cmRmOkRlc2NyaXB0aW9uIHJkZjphYm91dD0idXVpZDpmYWY1YmRkNS1iYTNkLTExZGEtYWQzMS1kMzNkNzUxODJmMWIiIHhtbG5zOnhtcD0iaHR0cDovL25zLmFkb2JlLmNvbS94YXAvMS4wLyI+PHhtcDpDcmVhdGVEYXRlPjIwMjEtMTItMjhUMTM6Mjc6NDUuMzI2PC94bXA6Q3JlYXRlRGF0ZT48L3JkZjpEZXNjcmlwdGlvbj48cmRmOkRlc2NyaXB0aW9uIHJkZjphYm91dD0idXVpZDpmYWY1YmRkNS1iYTNkLTExZGEtYWQzMS1kMzNkNzUxODJmMWIiIHhtbG5zOmRjPSJodHRwOi8vcHVybC5vcmcvZGMvZWxlbWVudHMvMS4xLyI+PGRjOmNyZWF0b3I+PHJkZjpTZXEgeG1sbnM6cmRmPSJodHRwOi8vd3d3LnczLm9yZy8xOTk5LzAyLzIyLXJkZi1zeW50YXgtbnMjIj48cmRmOmxpPk1hdWxhbmEgQmludGFuZzwvcmRmOmxpPjwvcmRmOlNlcT4NCgkJCTwvZGM6Y3JlYXRvcj48L3JkZjpEZXNjcmlwdGlvbj48L3JkZjpSREY+PC94OnhtcG1ldGE+DQogICAgICAgICAgICAgICAgICAgICAgICAgICAgICAgICAgICAgICAgICAgICAgICAgICAgICAgICAgICAgICAgICAgICAgICAgICAgICAgICAgICAgICAgICAgICAgICAgICAgCiAgICAgICAgICAgICAgICAgICAgICAgICAgICAgICAgICAgICAgICAgICAgICAgICAgICAgICAgICAgICAgICAgICAgICAgICAgICAgICAgICAgICAgICAgICAgICAgICAgICAKICAgICAgICAgICAgICAgICAgICAgICAgICAgICAgICAgICAgICAgICAgICAgICAgICAgICAgICAgICAgICAgICAgICAgICAgICAgICAgICAgICAgICAgICAgICAgICAgICAgIAogICAgICAgICAgICAgICAgICAgICAgICAgICAgICAgICAgICAgICAgICAgICAgICAgICAgICAgICAgICAgICAgICAgICAgICAgICAgICAgICAgICAgICAgICAgICAgICAgICAgCiAgICAgICAgICAgICAgICAgICAgICAgICAgICAgICAgICAgICAgICAgICAgICAgICAgICAgICAgICAgICAgICAgICAgICAgICAgICAgICAgICAgICAgICAgICAgICAgICAgICAKICAgICAgICAgICAgICAgICAgICAgICAgICAgICAgICAgICAgICAgICAgICAgICAgICAgICAgICAgICAgICAgICAgICAgICAgICAgICAgICAgICAgICAgICAgICAgICAgICAgIAogICAgICAgICAgICAgICAgICAgICAgICAgICAgICAgICAgICAgICAgICAgICAgICAgICAgICAgICAgICAgICAgICAgICAgICAgICAgICAgICAgICAgICAgICAgICAgICAgICAgCiAgICAgICAgICAgICAgICAgICAgICAgICAgICAgICAgICAgICAgICAgICAgICAgICAgICAgICAgICAgICAgICAgICAgICAgICAgICAgICAgICAgICAgICAgICAgICAgICAgICAKICAgICAgICAgICAgICAgICAgICAgICAgICAgICAgICAgICAgICAgICAgICAgICAgICAgICAgICAgICAgICAgICAgICAgICAgICAgICAgICAgICAgICAgICAgICAgICAgICAgIAogICAgICAgICAgICAgICAgICAgICAgICAgICAgICAgICAgICAgICAgICAgICAgICAgICAgICAgICAgICAgICAgICAgICAgICAgICAgICAgICAgICAgICAgICAgICAgICAgICAgCiAgICAgICAgICAgICAgICAgICAgICAgICAgICAgICAgICAgICAgICAgICAgICAgICAgICAgICAgICAgICAgICAgICAgICAgICAgICAgICAgICAgICAgICAgICAgICAgICAgICAKICAgICAgICAgICAgICAgICAgICAgICAgICAgICAgICAgICAgICAgICAgICAgICAgICAgICAgICAgICAgICAgICAgICAgICAgICAgICAgICAgICAgICAgICAgICAgICAgICAgIAogICAgICAgICAgICAgICAgICAgICAgICAgICAgICAgICAgICAgICAgICAgICAgICAgICAgICAgICAgICAgICAgICAgICAgICAgICAgICAgICAgICAgICAgICAgICAgICAgICAgCiAgICAgICAgICAgICAgICAgICAgICAgICAgICAgICAgICAgICAgICAgICAgICAgICAgICAgICAgICAgICAgICAgICAgICAgICAgICAgICAgICAgICAgICAgICAgICAgICAgICAKICAgICAgICAgICAgICAgICAgICAgICAgICAgICAgICAgICAgICAgICAgICAgICAgICAgICAgICAgICAgICAgICAgICAgICAgICAgICAgICAgICAgICAgICAgICAgICAgICAgIAogICAgICAgICAgICAgICAgICAgICAgICAgICAgICAgICAgICAgICAgICAgICAgICAgICAgICAgICAgICAgICAgICAgICAgICAgICAgICAgICAgICAgICAgICAgICAgICAgICAgCiAgICAgICAgICAgICAgICAgICAgICAgICAgICAgICAgICAgICAgICAgICAgICAgICAgICAgICAgICAgICAgICAgICAgICAgICAgICAgICAgICAgICAgICAgICAgICAgICAgICAKICAgICAgICAgICAgICAgICAgICAgICAgICAgICAgICAgICAgICAgICAgICAgICAgICAgICAgICAgICAgICAgICAgICAgICAgICAgICAgICAgICAgICAgICAgICAgICAgICAgIAogICAgICAgICAgICAgICAgICAgICAgICAgICAgICAgICAgICAgICAgICAgICAgICAgICAgICAgICAgICAgICAgICAgICAgICAgICAgICAgICAgICAgICAgICAgICAgICAgICAgCiAgICAgICAgICAgICAgICAgICAgICAgICAgICAgICAgICAgICAgICAgICAgICAgICAgICAgICAgICAgICAgICAgICAgICAgICAgICAgICAgICAgICAgICAgICAgICAgICAgICAKICAgICAgICAgICAgICAgICAgICAgICAgICAgIDw/eHBhY2tldCBlbmQ9J3cnPz7/2wBDAAcFBQYFBAcGBQYIBwcIChELCgkJChUPEAwRGBUaGRgVGBcbHichGx0lHRcYIi4iJSgpKywrGiAvMy8qMicqKyr/2wBDAQcICAoJChQLCxQqHBgcKioqKioqKioqKioqKioqKioqKioqKioqKioqKioqKioqKioqKioqKioqKioqKioqKir/wAARCAD+AsIDASIAAhEBAxEB/8QAHwAAAQUBAQEBAQEAAAAAAAAAAAECAwQFBgcICQoL/8QAtRAAAgEDAwIEAwUFBAQAAAF9AQIDAAQRBRIhMUEGE1FhByJxFDKBkaEII0KxwRVS0fAkM2JyggkKFhcYGRolJicoKSo0NTY3ODk6Q0RFRkdISUpTVFVWV1hZWmNkZWZnaGlqc3R1dnd4eXqDhIWGh4iJipKTlJWWl5iZmqKjpKWmp6ipqrKztLW2t7i5usLDxMXGx8jJytLT1NXW19jZ2uHi4+Tl5ufo6erx8vP09fb3+Pn6/8QAHwEAAwEBAQEBAQEBAQAAAAAAAAECAwQFBgcICQoL/8QAtREAAgECBAQDBAcFBAQAAQJ3AAECAxEEBSExBhJBUQdhcRMiMoEIFEKRobHBCSMzUvAVYnLRChYkNOEl8RcYGRomJygpKjU2Nzg5OkNERUZHSElKU1RVVldYWVpjZGVmZ2hpanN0dXZ3eHl6goOEhYaHiImKkpOUlZaXmJmaoqOkpaanqKmqsrO0tba3uLm6wsPExcbHyMnK0tPU1dbX2Nna4uPk5ebn6Onq8vP09fb3+Pn6/9oADAMBAAIRAxEAPwD3bxJrd9pDaVb6VYW99d6nem0jS5umt40xBLMWLLG56QkY29TVb7d43/6F7w//AOD6f/5Do8Uf8jF4M/7DUn/pvvK6SgDm/t3jf/oXvD//AIPp/wD5Do+3eN/+he8P/wDg+n/+Q66SigDm/t3jf/oXvD//AIPp/wD5Do+3eN/+he8P/wDg+n/+Q66So5xM1vILZ0jmKkRvIhdVbHBKggkZ7ZH1FAHP/bvG/wD0L3h//wAH0/8A8h0fbvG//QveH/8AwfT/APyHXn3hL4i+NPEniTxZpd1feHdOj8NSMklydLnkWUBnBbH2kbfuZ79a9D0XWNQsvDs1349n0ywmt7h0e4iJgt2TPyODIxxkEdT1oWqv5XB6O3yG/bvG/wD0L3h//wAH0/8A8h0fbvG//QveH/8AwfT/APyHW1ZanYalYi9069t7u1YEieCVXQ46/MDiodM8QaNrTyro2rWOoNCcSi1uUlKfXaTigDL+3eN/+he8P/8Ag+n/APkOj7d43/6F7w//AOD6f/5Drnvit8R38HeGbu78N6nok+q2DIZ9Ouj5shRmC52pIrLjcDkg12+iXsmpeH9Pvp1VZbq1jmcICFBZQTjPbmhaptdAejSMn7d43/6F7w//AOD6f/5Do+3eN/8AoXvD/wD4Pp//AJDqzp+tXGoeMNW0+JIvsGmxQo8mDva4cF2XOcYCGM9M5frWB4g8cXcPxIs/BmkT6dYXU1kbxrvUkaRX+basUaK6bmOCfvcAdDR28w7+RrfbvG//AEL3h/8A8H0//wAh0fbvG/8A0L3h/wD8H0//AMh1b0K91qU30XiOztrZ7WULFNbOxjuE2A7xu5XkkFecY6nrUkPijw/cWN1ewa5pstpZnFzcJdxmOD/fYHC/jQBQ+3eN/wDoXvD/AP4Pp/8A5Do+3eN/+he8P/8Ag+n/APkOrP8Awmnhb7PFcf8ACS6P5MyM8cn2+La6rncQd2CBg5PbFIvjfwo+nPfp4m0drKOQRPci/iMauRkKW3YBI5x1oAr/AG7xv/0L3h//AMH0/wD8h0fbvG//AEL3h/8A8H0//wAh1R8O+MLzXPiFrWlRzaHcaPZxI1tLZX6TXBfgOJI1YlQDkcgdB1zx0Nr4h0W+1OXTrLWLC4voc+ZaxXSPKmOuUByPyo6J9wMz7d43/wChe8P/APg+n/8AkOj7d43/AOhe8P8A/g+n/wDkOtZdc0l9YbSU1SybUVXcbMXCGYD12Z3Y/Cr1AHN/bvG//QveH/8AwfT/APyHR9u8b/8AQveH/wDwfT//ACHXSUUAc39u8b/9C94f/wDB9P8A/IdH27xv/wBC94f/APB9P/8AIddJRQBxuk+I/GOs2Ul1a+G9DRI7q4tSJNdmB3QzPCx4tDwWjJHtjp0q99u8b/8AQveH/wDwfT//ACHR4D/5F26/7DWq/wDpwuK6SgDm/t3jf/oXvD//AIPp/wD5Do+3eN/+he8P/wDg+n/+Q66SigDm/t3jf/oXvD//AIPp/wD5Do+3eN/+he8P/wDg+n/+Q66SigDm/t3jf/oXvD//AIPp/wD5Do+3eN/+he8P/wDg+n/+Q66SigDm/t3jf/oXvD//AIPp/wD5Do+3eN/+he8P/wDg+n/+Q66SigDm/t3jf/oXvD//AIPp/wD5Do+3eN/+he8P/wDg+n/+Q66SigDm/t3jf/oXvD//AIPp/wD5Do+3eN/+he8P/wDg+n/+Q66SigDm/t3jf/oXvD//AIPp/wD5Do+3eN/+he8P/wDg+n/+Q66SigDm/t3jf/oXvD//AIPp/wD5Do+3eN/+he8P/wDg+n/+Q66SigDm/t3jf/oXvD//AIPp/wD5Do+3eN/+he8P/wDg+n/+Q66SigDm/t3jf/oXvD//AIPp/wD5Do+3eN/+he8P/wDg+n/+Q66SigDm/t3jf/oXvD//AIPp/wD5Do+3eN/+he8P/wDg+n/+Q66SigDm/t3jf/oXvD//AIPp/wD5Do+3eN/+he8P/wDg+n/+Q66SigDm/t3jf/oXvD//AIPp/wD5Do+3eN/+he8P/wDg+n/+Q66SvO9D8c614v1zXYPDsujW6aNePafYb1ZGuLgpwXLKw8pScgHY/T8KOtg6XOg+3eN/+he8P/8Ag+n/APkOj7d43/6F7w//AOD6f/5Dq9Z615Phe31TxP8AZ9GcxK10s8wRIGPVSzYHXjPei68WeHbHT7e/vdf0u2s7r/j3uJryNI5v91icN+FAFH7d43/6F7w//wCD6f8A+Q6Pt3jf/oXvD/8A4Pp//kOrd14y8MWPm/bfEek2/kuscvnX0SeWxBIU5bgkAkA+hpJPGXhmOG2lfxHpKx3aNJbu19EFmVc7mQ7vmAwckdMUAVft3jf/AKF7w/8A+D6f/wCQ6Pt3jf8A6F7w/wD+D6f/AOQ6peAfFt94g8N32qeIZdFhW3u5I1l0y/SeERKAQzOGYA4POSOMHAziuj03XNJ1m2e40fU7O/gjOHltbhJVU+hKkgUAZP27xv8A9C94f/8AB9P/APIdH27xv/0L3h//AMH0/wD8h1rabrela0sraPqdnfiFtkptbhZdjeh2k4P1q9QBzf27xv8A9C94f/8AB9P/APIdH27xv/0L3h//AMH0/wD8h10lFAHN/bvG/wD0L3h//wAH0/8A8h0fbvG//QveH/8AwfT/APyHXSUUAc39u8b/APQveH//AAfT/wDyHR9u8b/9C94f/wDB9P8A/IddJRQBzf27xv8A9C94f/8AB9P/APIdH27xv/0L3h//AMH0/wD8h10lFAHN/bvG/wD0L3h//wAH0/8A8h0fbvG//QveH/8AwfT/APyHXSUUAc39u8b/APQveH//AAfT/wDyHR9u8b/9C94f/wDB9P8A/IddJRQBzf27xv8A9C94f/8AB9P/APIdH27xv/0L3h//AMH0/wD8h10lFAHN/bvG/wD0L3h//wAH0/8A8h0fbvG//QveH/8AwfT/APyHXSUUAc39u8b/APQveH//AAfT/wDyHR9u8b/9C94f/wDB9P8A/IddJRQBzf27xv8A9C94f/8AB9P/APIdH27xv/0L3h//AMH0/wD8h10lFAHN/bvG/wD0L3h//wAH0/8A8h0fbvG//QveH/8AwfT/APyHXSUUAc39u8b/APQveH//AAfT/wDyHR9u8b/9C94f/wDB9P8A/IddJRQBzf27xv8A9C94f/8AB9P/APIdGn69rn/CVW2ja9pGn2n2qynu4prLUnuf9U8KFWVoI8Z88EEE9DXSVzd9/wAlT0L/ALAupf8Ao+xoA6SiiigDm/FH/IxeDP8AsNSf+m+8rpK5vxR/yMXgz/sNSf8ApvvK6SgAooooAKjnnhtbeS4uZUhhiUvJJIwVUUDJJJ4AA71JRQB8s+B9K0Hxx8R/iFp0uteTJqN28mmmC/aNboiSRs7FOJVxg4IbAyRjrXpXxjgu4vFngLUrvP8Awj1hqYfUHIzHC2V2PJ2CjDcngfjXrlFC0UUvs2/AHq5N9b/ifNU+meIdZ0H4s3vhJZpNJ1G6RrP7ODtugr5maLH3gV6kfe6c1qaGx1r4oeApvBTo8WmeH/J1SWAfJB8hAilx0bd/Cec84r6BopJWVvT8E1+oS1v53/Fp/ofJjbIfgD4r0HV4WPipdbEs9vJEWuCS8f7zpnB+YbunOO/P0l4Y1KCH4c6Zf3Alt4bfTkaX7RE0TIET5sqwBGNp/nXQ0U9eVpdbfgrBo5Jvz/F3OY+H9rNH4Ti1C9QpeavK+pXCt1Uyncqn/dTYv/Aa5H4jWHgvxX4guNE8e27WCWltHLZ62MxLGXLbozMfkB+UEK3Bz0zXqtFEkm/IE2vU+crfTfF//CmfHmkaVqd7rul28sUej3pDF7mAHM4Q9WULgcZB+bFa3hy3s7nRbjxivibTXtY/DLaddWNpp5tkgCp8omZpmw4Y7RwM9hivd6KTV013X6W/UadmvJ/qn+h4n8AND8Oa78LNHuLu2tb2/wBLubn7zbmgaQkEMM9ChHB471N8PPCt94f8b+I/BU9qX8OW95Fq9q7jKlXzsi59GVT/ANsj617NRVuXvcy/rb9UQl7vL/XX/NnzxZX32344/E638O30B1K80hobDypQDJOsagqp7sCD9MH0rf8Ag/H4V1Xwt4fE1qkXi7QI5rbyXDrPbuxbczoOqnOdzAgE+te0UVCVoqPlb8/8y5atvz/y/wAj5q+HmiX+s28Oj6rr1vpPiDRvEDajLaPprPfTvnlvMMwDIwJBIXgDk46/StFFVfRL+tkv0F1b/rdv9QooopAFFFFAHN+A/wDkXbr/ALDWq/8ApwuK6Sub8B/8i7df9hrVf/ThcV0lABRRRQAUUUUAFFFFABRRRQAUUUUAFFFFABRRRQAUUUUAFFFFABRRRQAUUUUAFFFFABXz/wCLdE8D+LUvdeur+Xwb4tt5ZljmQtAbto2ZVdEP+t3ADmP5sn2r6AoqWrjTsfOvie48XweF/hhrXixmhWzuGfUpry1aZIHLYhlmjVlJwnPUEHPeqXxN0m38PfBTU0PiG11WPWNdW+tDb2/kRAt80ghBkcso65B4zX0vRVPW/rf8U7fgC0t5K35/5nDHwJ4U8U+DbxrO2tX/ALd06KGS9iO/fsTEbjnGVPORzxzWF8IotQj8Fxy+Moktm8Mi406KacgLtRvnkyegCqqZ9Fb1r1aiiWrk11/r9WSlaKT6f1/l9x8h6LNc3fwJ1JNG/wBMisvFC3mpWdudzta7RglRzsLL9OPY16x42stF1v4WeK9Y+GEYn1DWIIZLySyLkyorDcmOits3ZUYPXI5r2SilJXjy/wBbJfdoik7S5v63b/U8h+FmnR6prmneKrDxDY3KLoyadcadp+mtAsOzBUSlpnw6nI6DI6ACvXqKKuUrv+vUiKsv69AoooqSgooooAKKKKACiiigAooooAKKKKACiiigAooooAKKKKACiiigAooooAKKKKACubvv+Sp6F/2BdS/9H2NdJXN33/JU9C/7Aupf+j7GgDpKKKKAOb8Uf8jF4M/7DUn/AKb7yukrm/FH/IxeDP8AsNSf+m+8rpKACiiigAooooAKKKKACiiigAooooAKKKKACiiigAooooAKKKKACiiigAooooAKKKKAPP8Awn418K6Rpd9Y6r4l0exu4ta1TzLe5v4o5EzfzkZVmBGQQfoa3P8AhY/gj/ocvD//AINIP/iqPAf/ACLt1/2GtV/9OFxXSUAc3/wsfwR/0OXh/wD8GkH/AMVR/wALH8Ef9Dl4f/8ABpB/8VXSUUAc3/wsfwR/0OXh/wD8GkH/AMVR/wALH8Ef9Dl4f/8ABpB/8VXSUUAc3/wsfwR/0OXh/wD8GkH/AMVR/wALH8Ef9Dl4f/8ABpB/8VXSVW1C/h0zT5by6ExhhG5xBA8z49kQFj+ANF7AYn/Cx/BH/Q5eH/8AwaQf/FUf8LH8Ef8AQ5eH/wDwaQf/ABVZNt8aPAV3afa4dakFp5vkm6k0+5jhWT+6ZGjCg89Ca7eKWOeFJoJFkikUMjochgeQQe4oA57/AIWP4I/6HLw//wCDSD/4qj/hY/gj/ocvD/8A4NIP/iq6SigDm/8AhY/gj/ocvD//AINIP/iqP+Fj+CP+hy8P/wDg0g/+KrpKKAOb/wCFj+CP+hy8P/8Ag0g/+Ko/4WP4I/6HLw//AODSD/4qukooA5v/AIWP4I/6HLw//wCDSD/4qj/hY/gj/ocvD/8A4NIP/iq6SigDm/8AhY/gj/ocvD//AINIP/iqP+Fj+CP+hy8P/wDg0g/+KrpKKAOb/wCFj+CP+hy8P/8Ag0g/+Ko/4WP4I/6HLw//AODSD/4qix/5Knrv/YF03/0ffV0lAHN/8LH8Ef8AQ5eH/wDwaQf/ABVH/Cx/BH/Q5eH/APwaQf8AxVdJRQBzf/Cx/BH/AEOXh/8A8GkH/wAVR/wsfwR/0OXh/wD8GkH/AMVXSUUAc3/wsfwR/wBDl4f/APBpB/8AFUf8LH8Ef9Dl4f8A/BpB/wDFV0lFAHN/8LH8Ef8AQ5eH/wDwaQf/ABVH/Cx/BH/Q5eH/APwaQf8AxVRt8RvC/wBruLa31CW9e1bbcNYWU91HCfR3iRlX8TWvoviDSfEdpJdaFqEF/bxyeW0sDblDYBxn1ww+nTrRvsGxmf8ACx/BH/Q5eH//AAaQf/FUf8LH8Ef9Dl4f/wDBpB/8VXSUUAc3/wALH8Ef9Dl4f/8ABpB/8VR/wsfwR/0OXh//AMGkH/xVbOqalbaPpc+oX5lFtbpvkMULysF7nagLH8B71V8OeJdJ8W6JHq/h67+12MrMqS+W8eSpweHAPUelG4FD/hY/gj/ocvD/AP4NIP8A4qj/AIWP4I/6HLw//wCDSD/4qukooA5v/hY/gj/ocvD/AP4NIP8A4qj/AIWP4I/6HLw//wCDSD/4qukooA5v/hY/gj/ocvD/AP4NIP8A4qj/AIWP4I/6HLw//wCDSD/4qukooA5v/hY/gj/ocvD/AP4NIP8A4qj/AIWP4I/6HLw//wCDSD/4qjxR/wAjF4M/7DUn/pvvK6SgDm/+Fj+CP+hy8P8A/g0g/wDiqP8AhY/gj/ocvD//AINIP/iq6SigDm/+Fj+CP+hy8P8A/g0g/wDiqP8AhY/gj/ocvD//AINIP/iq6SigDm/+Fj+CP+hy8P8A/g0g/wDiqP8AhY/gj/ocvD//AINIP/iqh8QfEnwv4W1iHS9dvLq1vLhgsEY025kE5OOEZIyrnkDCk8nHWrOl+OdC1fXRo1rLexaiYWnFveabc2rFAQCw82NQeSKFrsD03Gf8LH8Ef9Dl4f8A/BpB/wDFUf8ACx/BH/Q5eH//AAaQf/FV0lFAHN/8LH8Ef9Dl4f8A/BpB/wDFUf8ACx/BH/Q5eH//AAaQf/FV0lYOteNtA8O65p2kazeSW15qbiOzU2srLKxbbtDqpUHJHBIxkE9aOtg8yH/hY/gj/ocvD/8A4NIP/iqP+Fj+CP8AocvD/wD4NIP/AIqptJ8baBrniO/0HTbyR9U04ZuraS1liMYzjOXUAjkYwTkHPSt6jpcOtjm/+Fj+CP8AocvD/wD4NIP/AIqj/hY/gj/ocvD/AP4NIP8A4qukpjzRxNGssiI0jbEDMBubBOB6nAJ/A0Ac9/wsfwR/0OXh/wD8GkH/AMVR/wALH8Ef9Dl4f/8ABpB/8VXSUUAc3/wsfwR/0OXh/wD8GkH/AMVR/wALH8Ef9Dl4f/8ABpB/8VXSUUAc3/wsfwR/0OXh/wD8GkH/AMVWbbeI9D8QfFPSP7B1nT9T8jRdQ837FdJN5e6eyxu2k4zg4z6Gu2rm77/kqehf9gXUv/R9jQB0lFFFAHN+KP8AkYvBn/Yak/8ATfeV0lc34o/5GLwZ/wBhqT/033ldJQAUUUUAFFFFABRRRQAUUUUAFFFFABRRRQAUUUUAFFFFABRRRQAUUUUAFFFFABRRRQBzfgP/AJF26/7DWq/+nC4rpK5vwH/yLt1/2GtV/wDThcV0lABRRRQAUUUUAFNk/wBW30NOqtqFpJfafLbQ3txYvIuBcWwQyJ9N6svtyDUyV4tIa3PmL4XeFtf8cfB/X/DeknTbaxvNXzcXlzK5lTaI2wkQTB+6OS47jHevSZNT1PQ/HXhX4VeH9SlsLaDSvNuNSEMbzSBFYKqiRWUcpk8HrgYxXVeAfhpp/wAOo7mDRdW1W4tblzJJbXjQsnmHA3grGrZwMdce1X/EPgfTvEGt2OtfabvTdXsFaOC/sWQSBGBBQh1ZWHJ6jjPFW3tbyv8AJWQt7/O3zdzyRvjfr6fDCefy4G12PXP7GW88r92eM+bs6bsDGOmefaupsfFmvWvxM1zwHf6vNeBNJ+22epm3hWeF9oyCFQRkZORlfY5roh8J/Co8Dt4WNpKbJ5vtLTGX9+Z8587f/f8AwxjjGOKn0/4d6fp95qmonUdRutY1S3FtLqtw0RnjjAwFQCMIMYH8PJHOal3s+/8A9rb5e9qNWv8A13v+WhxXwm1zx7438KaPrl14hgaOHUpo7+KS0jU3MAHABVBtYN6Y46k9K9irl/AXgKx+HmiyaVpGoahd2bymVUvWjby2PXaURTzx1z04xXUVcmun9aEK/X+tQoooqSgooooAKKKKAObsf+Sp67/2BdN/9H31dJXN2P8AyVPXf+wLpv8A6Pvq6SgAooooAKKKKACuE+NV7qOn/B3X7jR2dLgQqpeP7yxs6hyP+Ak813dMngiubeSC4jSWKRSjxuuVZSMEEHqKmceaLRUXyyTPNvhNcW2gfALR77TrCa+C2zTzQ2fl+ZI5c7z87KCRz1PQYHYVzMnxf0qw+GHiPxX4F0C/tRPfjEl/HEsJunCKxCpIx4ADHIAJPXmu9svhjY6Pb3Fn4c1zWdG065LF9PtZYnhXd97b5sbsmf8AZIqay+FvhSw8CXPhCDT2Ok3RLzI8rM7OcfPuJ4b5QeMDjpVTbk5S7/56r07EwSikv6/4c5K08d674a+I2m+Hdd1BtatdS0NtRMrwRxyQyojuyr5aqChEZABBPI5rmU+LPiq3+H+mfEG4vkltr3WjaSaMLeMRJB8w+Vwvmb/l6liOeleq6H8OdK0bXU1me6vtW1GK0FlBPqDoxggH8ChEUd+SQSfXk1nQ/B3w3C1vB5t/JpNrem/g0d5VNrHMf4gNu8jn7pYr7VWnNfp/9tf/ANJ0/q4vs26//a2/PX+rHO3vizXfFfj7xpoFjqR0vTPD+ntiOO3jka6kK8ly4JC9RhSp6c1d/Zy/5Irpv/Xef/0Ya6PUPhpo974pvdfgu9Q0+71G2NrfLZzKqXSYx8wKkg4A5Ug8Vf8ABfgnSfAeh/2VoRujbFy5FzcNJ8x6kA8Ln0UCphpHXey++7HPVq3f8LWOhooooAKKKKACiiigDm/FH/IxeDP+w1J/6b7yukrm/FH/ACMXgz/sNSf+m+8rpKACiiigAooooA8I/aEaZfHXw5a1RJJhqLGNJHKKzeZDgFgCQM98H6GvSfCr6hqNlNd+K4orHWY765t4fKl3iFWxgRlh8wKqrcjnGcdqqeMvhXYeN9esdV1TXNZgk05xJZRWrwKlu3ynI3REkkqD8xP5cVfi8ES/27a6rf8AirXdRms1cQRXDWyxIzIU37I4VBYBjgnNKOkbPz/G3+QS1aa8v1/zPN7bXPG9p8WLnwHrvjS4ikuTHcaZqC2dooeAbi6FPKOZDjA6AFSfY7l94m8UeJfiRr/hDwvrKaRLoenxyRTSwRyG7nbacybkbCYbB2gHJz7Vd1X4K6ZrUtpPqPiXxBLeWl293FeCS2WYSNt53iAHA2DA6Dp0Axs3vw20268V23ia31LU7DWoYBbzXlpJGpu0AA/eqyFD07KO3oMNbJPz/LR/L/gg921/Wuv3/wDAOT8TeO9fsfGuieDri9ksLp9LN5qF7pOmvePJLggJFH5bkJuUkkr09K5HxVreseIJPhNfeJtNn07VP7bMdxDPbtCSVkjAcIwBAYYP416/rvw70vXNX0vV/teoafq2lqUt7+0nHmlD1Vy6sGByeo7n1qp4o+F+n+K9Q0i9vNZ1e2m0iTzrY2zwj99uBMjbomyxIHH3eOAKcXaSb73/ABv+WgPZpdv0t+ep5uviD/hFfjh8UNcEPntY6RHMsZOAzBY8A+2cVu+B/GvirWtW0JLh9U1Cw1vT3ku7r+xXt4dMn27k8uQxBXQjjLF8kA55xXT23wn0iLxZrGv3Wp6pfS61A1vf21y0JhmiIwFwsYIAAGCCDxyTzWl4Y8C2vhPS/wCzdO1bVJrSIMLSK5ljkFpnP+rOwE4zxu3AVMdIpPov8/8ANfcEtW2ur/y/yf3niMXxN8eQfC/WPE0niUz3Gl66LFInsbcLLHxkPhB6/wAOD15PGOo8YT6nqf7QXgezi1u/sbe5sJLpEgEREDmOQEqHRlJIGMsG6nGK3P8AhQegf8IveeHzr2vnT728F7Ohlt8tKBjOfJ4B449h710V98NdM1DWNC1abUNSXUtEgNvDdxyorzRkEEPhMcgnlQp54xVR0tfpb/0mz/HUJa3t1T/O6/DQ69QVUAsWIGCT1NLQBgYopAFFFFABXN33/JU9C/7Aupf+j7Gukrm77/kqehf9gXUv/R9jQB0lFFFAHN+KP+Ri8Gf9hqT/ANN95XSVyXjhL6XVPCKaVcW9tdnWn8uW5t2mjX/QLvOUV0J4yPvDB556Gz9h8b/9DD4f/wDBDP8A/JlAHSUVzf2Hxv8A9DD4f/8ABDP/APJlH2Hxv/0MPh//AMEM/wD8mUAdJRXN/YfG/wD0MPh//wAEM/8A8mUfYfG//Qw+H/8AwQz/APyZQB0lFc39h8b/APQw+H//AAQz/wDyZR9h8b/9DD4f/wDBDP8A/JlAHSUVzf2Hxv8A9DD4f/8ABDP/APJlH2Hxv/0MPh//AMEM/wD8mUAdJRXN/YfG/wD0MPh//wAEM/8A8mUfYfG//Qw+H/8AwQz/APyZQB0lFc39h8b/APQw+H//AAQz/wDyZWb4cufG/iDwrpWs/wBt+H7f+0bKG78n+xJ38vzED7d32sZxnGcCgDtqK5v7D43/AOhh8P8A/ghn/wDkyj7D43/6GHw//wCCGf8A+TKAOkorm/sPjf8A6GHw/wD+CGf/AOTKPsPjf/oYfD//AIIZ/wD5MoA6Siub+w+N/wDoYfD/AP4IZ/8A5Mo+w+N/+hh8P/8Aghn/APkygDpKK5v7D43/AOhh8P8A/ghn/wDkyj7D43/6GHw//wCCGf8A+TKAOkorm/sPjf8A6GHw/wD+CGf/AOTKPsPjf/oYfD//AIIZ/wD5MoA6Siub+w+N/wDoYfD/AP4IZ/8A5Mo+w+N/+hh8P/8Aghn/APkygA8B/wDIu3X/AGGtV/8AThcV0led+C7Pxi2g3Jtdd0ONP7W1IFZNFmclvt0+45F0OC2SBjgEDJxk9B9h8b/9DD4f/wDBDP8A/JlAHSUVzf2Hxv8A9DD4f/8ABDP/APJlH2Hxv/0MPh//AMEM/wD8mUAdJRXN/YfG/wD0MPh//wAEM/8A8mUfYfG//Qw+H/8AwQz/APyZQB0lFc39h8b/APQw+H//AAQz/wDyZR9h8b/9DD4f/wDBDP8A/JlAHSUVzf2Hxv8A9DD4f/8ABDP/APJlH2Hxv/0MPh//AMEM/wD8mUAdJRXN/YfG/wD0MPh//wAEM/8A8mUfYfG//Qw+H/8AwQz/APyZQB0lFc39h8b/APQw+H//AAQz/wDyZR9h8b/9DD4f/wDBDP8A/JlAHSUVzf2Hxv8A9DD4f/8ABDP/APJlH2Hxv/0MPh//AMEM/wD8mUAdJRXN/YfG/wD0MPh//wAEM/8A8mUfYfG//Qw+H/8AwQz/APyZQB0lFc39h8b/APQw+H//AAQz/wDyZR9h8b/9DD4f/wDBDP8A/JlABY/8lT13/sC6b/6Pvq6SvO7Oz8Y/8LJ1lV13QxcDSbAvIdFmKMvnXm0BftWQQQ2Tk5yOBgk9B9h8b/8AQw+H/wDwQz//ACZQB0lFc39h8b/9DD4f/wDBDP8A/JlH2Hxv/wBDD4f/APBDP/8AJlAHSUVzf2Hxv/0MPh//AMEM/wD8mUfYfG//AEMPh/8A8EM//wAmUAdJRXN/YfG//Qw+H/8AwQz/APyZR9h8b/8AQw+H/wDwQz//ACZQB0lFc39h8b/9DD4f/wDBDP8A/JlH2Hxv/wBDD4f/APBDP/8AJlAHSUVzf2Hxv/0MPh//AMEM/wD8mUfYfG//AEMPh/8A8EM//wAmUAdJRXN/YfG//Qw+H/8AwQz/APyZR9h8b/8AQw+H/wDwQz//ACZQB0lFc39h8b/9DD4f/wDBDP8A/JlH2Hxv/wBDD4f/APBDP/8AJlAHSUVzf2Hxv/0MPh//AMEM/wD8mUfYfG//AEMPh/8A8EM//wAmUAdJRXN/YfG//Qw+H/8AwQz/APyZR9h8b/8AQw+H/wDwQz//ACZQAeKP+Ri8Gf8AYak/9N95XSV534js/GI17wmJ9d0N3bVpBCyaLMoRvsN1ywN0dw27hgEckHPGD0H2Hxv/ANDD4f8A/BDP/wDJlAHSUVzf2Hxv/wBDD4f/APBDP/8AJlH2Hxv/ANDD4f8A/BDP/wDJlAHSUVzf2Hxv/wBDD4f/APBDP/8AJlH2Hxv/ANDD4f8A/BDP/wDJlAHSUVzf2Hxv/wBDD4f/APBDP/8AJlH2Hxv/ANDD4f8A/BDP/wDJlAHSUVzf2Hxv/wBDD4f/APBDP/8AJlH2Hxv/ANDD4f8A/BDP/wDJlAHSUVzf2Hxv/wBDD4f/APBDP/8AJlH2Hxv/ANDD4f8A/BDP/wDJlAHSUVzf2Hxv/wBDD4f/APBDP/8AJlH2Hxv/ANDD4f8A/BDP/wDJlAHSUVzf2Hxv/wBDD4f/APBDP/8AJlH2Hxv/ANDD4f8A/BDP/wDJlAHSUVzf2Hxv/wBDD4f/APBDP/8AJlH2Hxv/ANDD4f8A/BDP/wDJlAHSUVzf2Hxv/wBDD4f/APBDP/8AJlH2Hxv/ANDD4f8A/BDP/wDJlAHSVzd9/wAlT0L/ALAupf8Ao+xo+w+N/wDoYfD/AP4IZ/8A5MrNtoNch+Kekf29qOn3udF1DyvsVg9ts/f2Wd26aTdnjGMYweueADtqKKKAOb8Uf8jF4M/7DUn/AKb7yukrm/FH/IxeDP8AsNSf+m+8rpKACiiigAooooAKKKKACiiigAooooAK5v4cf8ks8Kf9gWz/APRCV0lc38OP+SWeFP8AsC2f/ohKAOkooooAK+f/ABbfx6R+0dbaTqvinVtN8PXNg1zcI+u3EMayFZCCp8wbeQMKOOwHavoCvGdT0DxXN+0VZeMYfCl7JpFpamzZxdWgd+HXeqmb7vzA84OO2eKS1mvn+T/Ww38D/rqhnwq8c6pp3hDxLrPje/u5fDmn3WNN1G+QmaeLJGASMvn5MH1Yj6d3o3xH0jVdYGlXVve6PfSWYv4YdRREM1v18xSjMOMcgkEc5HBqH4s+DLrx58O73RdPmSK7LJNB5hwrMhztJ7A8jPriuQPw+17xf47tNZ1ywfQrSx0B9L2PPHLJLLJG6My+WzAIBISMkE4HA7F20/L/ACevzdgsrrz/AM1p91zqLH4veHb6awcRX8GnaldNZ2OqTRKtvcyg42ghi4yRgFlAPrTLz4u6RY+JNc0KfSNZN9ots13OkcMTiWIYO5MSc/KwbnHHvxXAW/ws8VX3g/wr4Kv9PW0t9D1Vru51UXMbRTRb2YeWobfuO7+JQBjrXT6H4e8R2v7RWueJbrQJ49Gv7QWkV2biA4KBPnKCTdtOw44zyMgc4q13Zef5K34k3sm35fn/AJHpmmahFq2k2mo2yyJDdwpMiyrtYKwBAI7HmrVFFDtfQFe2oUUUUhnN+A/+Rduv+w1qv/pwuK6Sub8B/wDIu3X/AGGtV/8AThcV0lABRRRQAUUUUAFFFFAHBfFHRNSvdPsr3w5rmoaTq63cEEDQ3ki277nxiSIHYw55OM/UcVlXPiZvGXw11iK+kvtD8S6IpF9bWd5JbyQTAcOCjDdGw5Gcg/UZrqfHD6t5OmR6NoF1qxS+huJjBPBGI0jcMR+8kXLHsBx6kVjfETwDdeI449c8NsbDXlh8iZGKgXdu33oZMEjI6qc8Ede4I7Wff7tFr997/f6kt012/V6f5G9ca7aeHZINC0+01TWb2K38428MonmWLON7yTSDOTkDLFjg4BxWDr/xOC+G9H1Twvp9zqCahqkVhKB5cb27eYA8TJIy4kOCoB4HUkDGbN7pWt6F8S7nxLpenPrFhqljFbXVtDNGk0EkRJR18xlVlIYgjcCDzzWFe+BdctvCons7KO61KXxSuvzWEc6rtXeMxq7YUsFAyeATnFC1ab7/APt3+Wv9WCySaXy+7/PQ9RtpXntYpZbeS2d0DNDKVLxkj7p2krkexI9zUtR27yyW0b3EQhlZQXjD7gh9M96koYBRRRQAUUUUAFFFFAHN2P8AyVPXf+wLpv8A6Pvq6Subsf8Akqeu/wDYF03/ANH31dJQAUUUUAFFFFABRRRQBj+KtJTWPDl1A15f2TJG0iT2F3JbyIwU4O5CMj2OR7VwXw98SamkFv4L8fXM0l7eWQn0zU1meNr+BkBK+YCGEyZ5IOe/ufRPEEt1DoF4dP0+bUbloikdtA8aM5Ix1kZVAGcnnp0z0rln8It4v+GunaZrljc6JqtjFH9mmMkby2lxGoAlRo2YEZHTIJHUCktOa+2n63t57fkN62+f6fhuJ4XvLPwn4K+26lf6pfS3N/Lbxi6u5buaZ/PeOOOMOxwcADjA4JPc1ZufiJDDa6xENG1CHWdLszeHSroxJJLF/wA9FcOUZcjkhiR6ZwKw5/BniZ/AHhwsbefxFoWpnUXhMgWK7PmSblDdF3K5IJ6HrjtcvvDWq+Ktfu9cu9NfSGXQ59Mtra5mjeSSSXksxjZlCjAA5JOScDHKnez+f5afjoEbXV/L89fw1Oh8Da5e+I/Bum6nqdhPZ3E9vG7eaY8TbkB3qEdsKSeA2G9QK6Gub8AW+qWPgbSrDXNO/s+6srWO2aPz1lLbEC7srkAEjgZPHXHSukrWduZ22IhflV9woooqCgooooAKKKKAOb8Uf8jF4M/7DUn/AKb7yukrm/FH/IxeDP8AsNSf+m+8rpKACiiigAooooAKKKKACvMfiDpviPT/ABbpmseCdSv3vtk08+kz3sj2t4sYTKCMkqjEMcEAc+/NenVymszawPH2jSWfh28u7C3jlSe9jnt1VDJsAIVpA5A2nPH0zS6q24+mphXup6b8QNH8Oaxpeo6rZrLqKW1zBaahNashwxeGVY2HzAgc9fQ4Nb+peOrHSpL6O307U9Sh0rC39xZxrItr8obDbnDOQpBIQMRnmsjVfh/cwfEXT/EfhuYQWtxdrLrNjkBJmVWCzqOzjODjqDnr1Zp+k+IvCmq+JrWy0c6xYa1eSX1rcJcRR+RJIoDpMHYHaCMgoGOO1F3yu3np56aem/8Aw4WXMr+X6/jt/wAMT6r8QbhfFvhmx0HSrjVNO1iCW6W5tpIf3yKgICiR1xjcGJOD0AzyK7yvL7XwPrPha58AjSbVdVj0O1ubW7YTrFtaVV+cbuSoYHgZOMcGvUKt2W3n+en4Eq/UKKKKkYUUUUAFFFFABXN33/JU9C/7Aupf+j7Gukrm77/kqehf9gXUv/R9jQB0lFFFAHN+KP8AkYvBn/Yak/8ATfeV0lc34o/5GLwZ/wBhqT/033ldJQAUUUUAFFFFABRRRQAUUUUAFFFFABXN/Dj/AJJZ4U/7Atn/AOiErpK5v4cf8ks8Kf8AYFs//RCUAdJRRRQAUUUUAFFFFABRRRQAUUUUAFFFFAHN+A/+Rduv+w1qv/pwuK6Sub8B/wDIu3X/AGGtV/8AThcV0lABRRRQAUUUUAFFFFABRRRQAUUUUAFFFFABRRRQAUUUUAFFFFAHN2P/ACVPXf8AsC6b/wCj76ukrm7H/kqeu/8AYF03/wBH31dJQAUUUUAFFFFABRRRQAUUUUAFFFFABRRRQAUUUUAFFFFABRRRQBzfij/kYvBn/Yak/wDTfeV0lc34o/5GLwZ/2GpP/TfeV0lABRRRQAUUUUAFFFFABRRRQAUUUUAFFFFABRRRQAUUUUAFFFFABXN33/JU9C/7Aupf+j7Gukrm77/kqehf9gXUv/R9jQB0lFFFAHN+KP8AkYvBn/Yak/8ATfeV0lc34o/5GLwZ/wBhqT/033ldJQAUUUUAFFFFABRRRQAUUUUAFFFFABXN/Dj/AJJZ4U/7Atn/AOiErpK5v4cf8ks8Kf8AYFs//RCUAdJRRRQAUUUUAFFFFABRRRQAUUUUAFFFFAHN+A/+Rduv+w1qv/pwuK6Sub8B/wDIu3X/AGGtV/8AThcV0lAEN21ylnK1jDFNchSYo5pTGjt2BYKxUe+0/SvNrL4q69ceEL/xNN4Qthp2mzyw3aQauXnQRNh2VDCqsByfvgmvT+nWvmyz03Urv4calqltf3mpaBb+ILxtX0K2dE8+280lmR1UPkD5ipYgj07z1fp+q/zK6L1/R/5H0RpWpW2s6PZ6nYsWtryFJ4mIwSrAEZH0NW68o8aeItMu/C/hJ9A1LTrfwveXawTzzwtNaxoIm8uOVFdCF3AAgsACBnjIrBvYV8I6DeeR4itr3w/da1Zf2jHpFu1va6fA+4SohEshVWxGWAIwG/2qt/E152/Lf7yF8Kflf8/8j3WivJfEMWk+HPCXi7UfhlcsbiWxjklt9MkRra1AODJGqcLIULNx12g/WS803SdP8R+Cb/wEIYjqs5jvFtX+W9szEWeSXH3ipC/OecnGeaS1f9df0/roN6K/r+Fj1aivni40vTV+Cmr63GzDUNN16b7Fdi4bdb/6aANhzxlT+NdzDpOmaJ8cLS10xfIi1TQp5LxPOY/aHWVNrsSSS2C3zdcZoWtvP/5HmB6X8v8AOx6dRXzvFpmmp8EdK16N2XU7XWwlveC4bfEpvirBTngFSc469a66ezj8LfFTWrbwlF5M9z4Wku/s6uX865WQhHIJO5u2eppXsr+v4LmHbW39b2PWqK8O8G6bZ6rdeGdesfFejm9chbq30/T3S8vdy/vY7lmuWLFeSWK8YyOwrKOnabD8HbnX4jjUdO8Rv9kuvPYtAPtwXCnPAKnn1HWqt73K/wCtUv1Jvpdf1o3+h9AXbzR2cz2qxvMqEosjEKTjjJAJxWH4B8Q3XivwJpmt38UUNxeRs7xwg7FwxGBkk9BXG+TpPin4keL9P8ZJDOdPhg/sy3uWwsUDR7mmjB6NvzlxyMAZFcbouoK3gL4eaZdajplro1zDdRzvqlubi1e4Vv3ccqiSMZwXI3NjPYnGJjqvW36/166FPf7/ANP69NT6Grl7bxJqEnxSvPDU8FstnDpaX0UqFjIxaQpg54A4PAH415rdRHwx4Xs9LPiKPUPDt74kjhvbiziaC3tIHG5rdG81yI94UH5sDcV9a6Hw7pmh6F8fdQtNCitbOGbQIn+z25Cpv8452qOBwAcD696qOsl8/wD0m5L0i/l/6VY9RooopDObsf8Akqeu/wDYF03/ANH31dJXN2P/ACVPXf8AsC6b/wCj76ukoAK4IeOPE03jrU/DNn4X02Sewt0uhLJrLoJonJC4H2c4bjkHgep613teMa9p+r6z8afFNr4X1+TSdUXw/bmExCNhI29vlfcpIHI5UgjIPPSl1Xz/ACbH0fy/NI9E8E+Mbfxpo093DaS2VxaXUlnd2sxDGGZPvLuHDDkc10deS+D9asbf4Pa5a+EbR9P8R6db3DXunyyGS5S8Cnc7Z5fJGQe/A7YrJ8N2EMl1o/iPwx4o0We/a0lBstL090nvyYicXJa5ckqwBLMuQeO4FOTSb8kv6XloJXa+/wDDv5nuFFeQeBovCGtaP4X1wagw8UrIPtTQTKLu5uCCJY5wfmaMHJKnACqMYFZKx2esfCHW/EOot5PjWwuLkvdhsXVtdLKfKhU9QpGxQg4IPTmh+7e/T+tO/wDw3cFrbz/4O/3HutFeTxaRa658YWtPEkCyvceFYJby1MrBGl84hsqDyOnHTge1cjFYWEXwT0/xAJHbU9M1lYLO8e4ZmgjW92BFJPC7OMdxTtqk+r/9u5RX0v8A1tc+hqK8tk0LR9c+NHiax1WJbm2fRrWSSB5W2MxeTJKg+mPpwa4+wtLOP4S+CvEpldtXh1i2t476S4ZnWL7SYzGCTwuwYK9O9KOtvNpfe2v0HLS/l/lc+gqK8O1+2i8UeLPFmneIPEOiaPdWk6izbUrJ3uLaDy1KS28n2hAvzbidqk56kjArUsdD0/V/isdP1121JZPCds9yJy0f2iTzCC7x7jgnAO05wcegNJO6Xn/k3+g3pfy/zS/U9drl9C8SahqPj3xJod7b20cGlLbNA8RYs4lVidxPH8I4A9eTXluh6os/g74e6VrN0W8P3d/eW148kp2SeWzi3hds8qSBweDtA6U++EHhTU/ihF4P8uzaK0sXSK158lcN5pRVII2qWOFIx2xT2u/X9PuC3T0/Ox7vXL+L/EmoeH9T8OQ2cFtJb6pqkdjO8pbcgZWOVAwM/KeSfwrzeG0Ojpe+I/BXiTRby5fRbhl07QdOaJZyELJNKDcSfOrYGSMknB9o7qw8LQ6d8Ndf0yS2a8utWtjc3xlBkuCY2LmVicswf1+7nHHSml7yXmr/ADdv0Jb91vyf4K/6nulFFFIZzfij/kYvBn/Yak/9N95XSVzfij/kYvBn/Yak/wDTfeV0lABWR4o1W+0Pw3eanplhDqEtpE0zwTXJgDIoJbDBH5wOARg+orXrF8ZusfgTXWkYKo064yScAfu2qKjag2i4JOSTOQX4qahZeHdE8ReIPDkNromrtCq3NnqJuJLfzR8hkRok49dpbFek187WVq2leF/AOu+Lb661rwYtrB5tu5VY9NucDy5GEar5kYPy/Pkg9Sc4rsvHV/Bq3j3SdOvdU0SHRLzTHltH1a1N1aXM+8AgYmjXeE2kEk9Tjk1rJWdl3a+5df67GUXdXfZHq9FeJDyPD9j4S0XX9eXV/Cs2pXUU948ZitnITMMLEu+6IOXA3MQdoB4FW9fXRvDmkW9t4cvZj4Zu/EcK6q0UwNtaxOPmijK4CRbgm4ZwNxGeSKnd6eX423+/+rlf1+f+R7FRXlculWmj/EbUNN8PJHbaFc+H5LjULO3OyCGUNiOQKOEZl3dMZC5rlLPSNNi+H3wx1iNpItRur61tJbtLl1kaJ1cPHu3ZC+wxj60LW3yX3tr9Ael/n+CT/U9/orx5dN03RvEnxH0bTlW108aLDdfZkkIVJTHLucc8E4XJ+lZkOi6XBo3wr1GEvFe6gYLS5uEuXV5oWtm3Rlg2duQOB07YoWv4fi2vzQPT8fwSf6nulFeFanIfCZ+I+n+GH+w2VrLp0rRw7nW2jkAFw4VWDfdyTtIPuOtauh6Dp1vqWoX2m+JdFurK80eX7Rp+hWRt4GA5Wdz9ok2vzjOATz6GpcrRcvL9LjSu0j2CsXxhq95oHg3VdW06GGa4sbWS4VJ2IU7VLHOOe3t9a8h0awsNP8K/CnXLY+XqVze29tLdGYlpInicNGcn7uQOOgNP1GDSfE/gv4i3/ihIZdf0+e8ij898SWcSL+4EeeVVhzx94k5zTqJxUkul/wALf5hTs3Fvrb8b/wCR7Pol7JqXh/T76dVWW6tY5nCAhQWUE4z25q9Xh11cw6xq2gaPqup6Jb6XL4ct5LJdZs2ubeeXkS7cTRqJFATrkgdMc5l06CKHWvB/hTxJrI1zw88F2YLmePy4L+ZXAjjILsHVVLbQSQ2AeeK0kvfaXd/hf/LQzi/dTfZfil/TPRPCPiTUNc1fxJZalBbQ/wBk6gLWLyCx3KY1fLE9T83YCuorzX4U22m6b4i8c6dpJiSCHWAY4UfOxfJTgewOR7Yx2r0qo+yn5L8kX1fq/wAwrm77/kqehf8AYF1L/wBH2NdJXN33/JU9C/7Aupf+j7GgDpKKKKAOb8Uf8jF4M/7DUn/pvvK6Sub8Uf8AIxeDP+w1J/6b7yukoAKKKKACiiigAooooAKKKKACiiigArm/hx/ySzwp/wBgWz/9EJXSVzfw4/5JZ4U/7Atn/wCiEoA6SiiigAooooAKKKKACiiigAooooAKKKKAOb8B/wDIu3X/AGGtV/8AThcV0lc34D/5F26/7DWq/wDpwuK6SgCG7tLa/s5bW+t4rm2mUpLDMgdHU9QVPBHsaoaV4X0DQnlfQ9D03TWmXbK1naRwlx6HaBkfWtWigDItfCXhuxtbq1svD+l29veYFzFDZRok+Om8AYbqetWrfRtMs9LOmWmnWkFgVKm0igVYsHqNgGMH6VdooAqadpWn6RZi00mwtbG2BJENtCsaZPU7VAFV7Pw1oWn/AGn7BounWv2sFbjybVE84HqHwPmz71p0UAc+PAHg4WrWw8J6GIGcSGL+zYdpYAgNjbjIBIz7mnN4F8IvMsr+FtFaRYxErnToiQgXaFB29NvGPTit6igDn/8AhAPB32UW3/CJ6H5AfzBF/ZsO3djG7G3GccZqxb+EPDVpqUeo2vh7SoL6IAR3MdlGsqALtADBcjC8fTitiigDNi8OaHBdXVzDo2nxz3ilLmVLVA06nqHOMsD6GqH/AAr/AMGi3NuPCWheSXDmP+zYdpYDAONuM4J5roaKAMybwzoVwbMz6Jp0psVC2he0Q/Z1HQJkfKB7Yp7+H9Gl0n+ypNJsX07/AJ82tkMP/fGMfpWhRQBT/sjTRpX9ljT7X+z9nl/ZPJXytv8Ad2Yxj2xUdh4f0bSnV9L0mxsmSPy1a2tkjKpknaNoHGSTj3rQooAKKKKAObsf+Sp67/2BdN/9H31dJXN2P/JU9d/7Aum/+j76ukoAKxYPBvhi21QanbeHNJhvxIZRdx2MSyhz1beFzk5POe9bVFHmBmjw7og1v+2Ro+n/ANqf8/32VPP6bf8AWY3dOOvSn2OhaRpl5Pd6bpVlZ3NyczzW9ukby9/mYDJ/Gr9FAFG20PSbPUptRtNLs4L24/11zFboskn+8wGT+NNk8P6NLq66rLpNi+orwt41shmH0fG79a0KKAMefwf4autSl1C68O6VNezArLcyWMbSSArtILFcnK8HPbiq/wDwgHg77N9n/wCET0PyN/meV/ZsO3djG7G3GccZroKKAMFfAvhJJXlTwtoqySIY3cafECyEbSpO3kEcY9KafAHg42y258J6GYFcusR02HaGIAJA24yQBz7CugooAzrjw7ol5Paz3ej2E8tmALaSW1RmgA6BCR8uPaq9x4O8M3eoS3914c0me8mBEtzJYxNJICu0hmK5OV4Oe3FbNFAGPB4R8N22lzabbeH9KhsLht81rHZRrFI3qyBcE8dxVqx0TStMLHTdMs7QsgjY29ukeVHAU4HQelXqKAKGm6HpOjed/Y+l2Vh57bpfstukXmH1baBk/WoIfCnh23naaDQdMilaUTNIlnGGMgzh8gfe5PPXk1rUUAFFFFAHN+KP+Ri8Gf8AYak/9N95XSVzfij/AJGLwZ/2GpP/AE33ldJQAVT1PSNN1uz+yazp9rqFtuDeTdwLKmR0O1gRmrlFAGXa+GNBsdKn0yy0TTbfT7kkz2kNpGkUuQAdyAYPAA5Hao/+ER8NjSRpY8PaV/Z4k8wWn2KPyQ/97Ztxn3xWxRQBUuNJ0670z+zruwtZ7HaE+yywq0W0dBsIxgfSlj0uwi0z+zorG2Sx2eX9lWFRFt/u7MYx7Yq1RQBlxeGdBt9Jl0uDRNOi06f/AFtmlpGIZP8AeQDB6dxVNvAPg57eOB/CehtDEzNHGdNhKoTjJA24BOBn6CugooAwZPAvhGaaaabwtosktxnznbToi0mTk7jt55APNI3gLwe8cMbeFNDZIM+Up06HEeTk7Rt4554rfooAyrTwr4e0/UJr6w0HTLW8nDCa4hs40kkDHLBmAycnrnrRF4V8PQadcafBoWmRWV0c3FslnGI5j6soGG/GtWigDnz4A8HNDHE3hPQzHES0aHTYcITjJA28ZwPyq7d+GtCv703l9ounXN0YzEZ5rRHcoRgruIzjHGOladFAGfe+H9G1KxistR0ixu7WEgxQT2yOkeOm1SMD8KffaLpeqWC2Op6bZ3lomNtvcQLJGuOmFII4q7RQBUstK0/TTIdOsLa0MmC/kQqm/AwM4HOAAKt0UUAFc3ff8lT0L/sC6l/6Psa6Subvv+Sp6F/2BdS/9H2NAHSUUUUAc34o/wCRi8Gf9hqT/wBN95XSVzfij/kYvBn/AGGpP/TfeV0lABRRRQBh3/jbwppV9JZap4m0eyuoiBJBcX8UbpkZGVZgRwal0rxZ4c126a20TX9L1KdU3tFZ3scrBc4yQpJxkjn3rxz45SNbfGL4czw20lzKlySIYdoeTEseFBYgZ+pA9663/hKoLLw3rXxD17QpbC/0lri0S1cKsxjLRhUdgDnLBTnJA3HGRSi04cz8/wANP1G0+blXl+J6bRXlOk/FHWbfXPCFr4nttPNt4ttvOtmskdGtHIBVH3M2/IZRuG3k9KzJvjXq8nhnWPGNhYWD+HtL1RbH7LIr/aZ0yoMgk3bV+8MLsP1p7b/1rb8xLXb+tL/kj2S6ureytZbq8njt7eFS8ksrhERRySSeAB61X0rWtL121a50TUrPUbdXKNLZzrKgbrjKkjPI4964KX4jahrvxIi8J+Eo7FETTF1G5u7+N3BVwpWNVVlwSHXLEnGehxzi/sz5/wCFf6tuAB/tmbIXoPkSmk23ft+thNqya/q6ueyUUUUhhXnfgHwD4PvPht4aurzwnoc9xNpNrJLLLpsLPIxhUlmJXJJJySa9Erm/hx/ySzwp/wBgWz/9EJQAf8K48Ef9Cb4f/wDBXB/8TR/wrjwR/wBCb4f/APBXB/8AE10lFAHN/wDCuPBH/Qm+H/8AwVwf/E1lanoPwo0W4WDWNK8G6fMwysd1bWsTH6BgDWz491m68PfD7XNW05c3VpZSSRcZwwHBx7dfwrz74C29jbfCiTxTqKSXmo6jNPNfXXktcTybXK7cKC7cDO0A9TxSWrfkD0S83Y7a28C/D28XNp4W8MzjaGzFp9u3B6Hhehwfyqf/AIVx4I/6E3w//wCCuD/4mvPbL4h/D7wppHi3xH4JaW7UmOaezisJ4Ilnz5YG9kCqWLAlevDEA1q6V8TdWs/Fnh3R/FkNgU8Rad9tt5rGN4/s7bS3luGZt3A+8Mc9qf8AX4X/AEYbL+v66nW/8K48Ef8AQm+H/wDwVwf/ABNQXngX4fadZy3eoeFvDNrbQrukmn063REHqWK4Arz8/G7Vz4Sl8bpp9ifDkerfYBaFX+1NH/z18zdtzz9zZ/wKt+7+IGp6/wDEPU/CXheKwS307TftV3c3sbv5pZVIjQKw28OPmO7vxSk2o3X9aX/IaSvZ/wBa2/M3NM8H/DXW7P7Xo3h3wrqFtuK+daWNtKmR1G5VIzVz/hXHgj/oTfD/AP4K4P8A4muG/Zo/5JH/ANxGf/2WvXauSs/uJTv+Jzf/AArjwR/0Jvh//wAFcH/xNH/CuPBH/Qm+H/8AwVwf/E10lFSM878F+AfB91oNzJdeE9DmddW1KMNJpsLEKl9Oqrkr0CqAB2AA7V0H/CuPBH/Qm+H/APwVwf8AxNHgP/kXbr/sNar/AOnC4rpKAOb/AOFceCP+hN8P/wDgrg/+Jo/4Vx4I/wChN8P/APgrg/8Aia6SigDm/wDhXHgj/oTfD/8A4K4P/iaP+FceCP8AoTfD/wD4K4P/AImukooA5v8A4Vx4I/6E3w//AOCuD/4mj/hXHgj/AKE3w/8A+CuD/wCJrpKKAOJvvDnws0zUYNP1LRvB9ne3GPJtri1tY5JcnA2qRk5PHHepNV8J/DLQrVbnXNA8J6bA77FlvLO2hVmxnALADOAePak+J/h7T/E/hu003VIt0c+o28YkXh49zgEq3Y81yM2u31j4W13wH45dZ9UtrF3sL2QfLqduOj8/8tF/iHXjPqaI6p97/on+oPRr+u6O2svA3w91KyivNO8L+Gbu2mG6OeDT7d0ceoYLg1P/AMK48Ef9Cb4f/wDBXB/8TVe98Qane+Lrnw14YNjbz6fZx3Nzc3sLyoPMJCRqiuh6KSW3cccHtxWveMtf1/wvpTWUtvo99b+KItI1KEwtOjSpICCrb1Pl/dYjgkHGRzk3at1/zt+YapNvp/lf8jvf+FceCP8AoTfD/wD4K4P/AImj/hXHgj/oTfD/AP4K4P8A4mt+2WdbWJbySOW4CASSRRmNGbHJClmIGe2Tj1NS0Ac3/wAK48Ef9Cb4f/8ABXB/8TR/wrjwR/0Jvh//AMFcH/xNdJRQBzf/AArjwR/0Jvh//wAFcH/xNH/CuPBH/Qm+H/8AwVwf/E10lFAHN/8ACuPBH/Qm+H//AAVwf/E0f8K48Ef9Cb4f/wDBXB/8TXSUUAed2fgHwe3xJ1m1bwnoZt49JsJEiOmw7FZprwMwG3AJCKCe+0egroP+FceCP+hN8P8A/grg/wDiaLH/AJKnrv8A2BdN/wDR99XSUAc3/wAK48Ef9Cb4f/8ABXB/8TR/wrjwR/0Jvh//AMFcH/xNdJRQBzf/AArjwR/0Jvh//wAFcH/xNH/CuPBH/Qm+H/8AwVwf/E10lFAHN/8ACuPBH/Qm+H//AAVwf/E0f8K48Ef9Cb4f/wDBXB/8TXSUUAc3/wAK48Ef9Cb4f/8ABXB/8TR/wrjwR/0Jvh//AMFcH/xNdJRQBzf/AArjwR/0Jvh//wAFcH/xNH/CuPBH/Qm+H/8AwVwf/E10lFAHN/8ACuPBH/Qm+H//AAVwf/E0f8K48Ef9Cb4f/wDBXB/8TXSUUAc3/wAK48Ef9Cb4f/8ABXB/8TR/wrjwR/0Jvh//AMFcH/xNdJRQBzf/AArjwR/0Jvh//wAFcH/xNH/CuPBH/Qm+H/8AwVwf/E10lFAHN/8ACuPBH/Qm+H//AAVwf/E0f8K48Ef9Cb4f/wDBXB/8TXSUUAed+I/APg+DXvCccHhPQ40uNWkjmVNNhAkX7DdNtYBeRuVTg91B7V0H/CuPBH/Qm+H/APwVwf8AxNHij/kYvBn/AGGpP/TfeV0lAHN/8K48Ef8AQm+H/wDwVwf/ABNH/CuPBH/Qm+H/APwVwf8AxNdJRQBzf/CuPBH/AEJvh/8A8FcH/wATR/wrjwR/0Jvh/wD8FcH/AMTXSUUAc3/wrjwR/wBCb4f/APBXB/8AE0f8K48Ef9Cb4f8A/BXB/wDE10lFAHN/8K48Ef8AQm+H/wDwVwf/ABNH/CuPBH/Qm+H/APwVwf8AxNdJRQBzf/CuPBH/AEJvh/8A8FcH/wATR/wrjwR/0Jvh/wD8FcH/AMTXSUUAc3/wrjwR/wBCb4f/APBXB/8AE0f8K48Ef9Cb4f8A/BXB/wDE10lFAHN/8K48Ef8AQm+H/wDwVwf/ABNH/CuPBH/Qm+H/APwVwf8AxNdJRQBzf/CuPBH/AEJvh/8A8FcH/wATR/wrjwR/0Jvh/wD8FcH/AMTXSUUAc3/wrjwR/wBCb4f/APBXB/8AE0f8K48Ef9Cb4f8A/BXB/wDE10lFAHN/8K48Ef8AQm+H/wDwVwf/ABNZtt4c0Pw/8U9I/sHRtP0zz9F1DzfsVqkPmbZ7LG7aBnGTjPqa7aubvv8Akqehf9gXUv8A0fY0AdJRRRQBzfij/kYvBn/Yak/9N95XSVzfij/kYvBn/Yak/wDTfeV0lABRRRQB5t43+F+q+MfG2keIU8SWtj/Ysoksrc6W0vOVY+Y3nDdyvYLx+ddjrXhu08SeFbzRNaCSR38Oy5kgTy9z4HzqCTgggEZJxgcmtiilZcvL0Hd83N1POtG+FBtta8P32va1/aieGrY2+mQpaeRtGMBpDvbewAHQKOAcVRuPgjBJp2o6Fa621v4a1LURqFxYC1BlDAglEm3YVCVHBQnjrXqdFPr/AF3v+Ytv6+Rwt38NFh8fW/ivw3qY0m5WyFhcQNbCaOaIABcfMu1gAuDyPlHB5zN8Nvh2vw60u8sotZudRju5zcMssSIqOeCVAGeQBnJI44A5rtKKFp/Xnf8AMLf1+H5BRRRQAVzfw4/5JZ4U/wCwLZ/+iErpK5v4cf8AJLPCn/YFs/8A0QlAHSUUUUAR3FvDd20tvcxrLDMhSSNxlXUjBBHoRXC6B8OdR8FLc2ngnxDHZ6TcSmVbDUbE3awMevluskbAezbq76ijrcOljzbR/gnoem+B9b8OXd5dXqa5J511OwVCsgOVZFA+XB5wSas6N8Ljb+JdJ1rxFrC6tNolj9h0+OO08hUXBXe/ztvfBxkbR7V6BRR/X4W/IN1b+u55U3wOtjpL+HRrTjwu+pf2idP+y/vt3/PMTb/uf8Az71tXXw0MXxAuPFXh/V/7MmvrP7He27WomWRQAAyHcNjAKvJDDjpXd0UraW/ra35B1v8A1vf8zjvhr8P1+HPh6TSYdXuNSiklMw86NEWNj12gDPPHUnpxiuxooqm29xJWCiiikM5vwH/yLt1/2GtV/wDThcV0lc34D/5F26/7DWq/+nC4rpKACiiigAooooAKKKKAOe8WaFrGupYpo+sWumLa3KXL+fYNcGRkYMo4lTC5HPUnsRUXjLwPYeN9Dhs9WIW6t3WWC8hTDRSDqQM/dPQrnkd+9dNRQtPvv8w3/I5bVPCFy/i5fE3h7VE03UXtha3Sz232iG5jByu5A6EMpJwwb2wao33w2jn8MR6fZao9vfpqy6w9/JAJPMuQ+4s0eQNp6YBGAB6V29FC0/rzv+eof1+FvyI7eOSK2jjmmM8iqA0pUKXPc4HAqSiigAooooAKKKKACiiigDm7H/kqeu/9gXTf/R99XSVzdj/yVPXf+wLpv/o++rpKACiiigAopssUc0TRTIskbjDI4yGHoRXjfwskbwb4sfw9Mdul+Ikl1DTOyxzo5WaIf8BCsB6ULV2/r+rA9Fc9morxPxBaW/iz45eEbzVYI7zS5XvoLS2nQPGywxj95tPBJk3Y9lQ129949vBb6tqGh6F/ael6NM8N5MLsRyu0YzJ5Me0h9vI5ZckEDNJNcqb/AKV7Ds72R2tQWl9aX6O9jdQ3KxuY3aGQOFcdVOOhHpXLy+Ok1O4sLHwnYx6xc39gNQxPcfZ4orduFZ22scsTgKFPQ5xiuN8C+LbPwl4F1a81OCDT5LnxNd28VrNcpDHHIWztaQ/KqqAct6DgEkCn1af9apC6Jr+tGz2GivLx8arU6F4gu4tPtb270Hynmj0/U0uIJo5DhXSYKM88EFQRXRzeKfEMMYDeE2SSe4Mdu8l8PJEQj3mWaRUbyhxtxhucc96P6/r+vyA62ivK9f8AiTqeo/Ci91zw5a2sF1BqH9nXBN4XVD5qxlopFT5wdww2FwDnBxg6+v8AxMXw9cDTb5NEh1iK2FzcW91ri28QBLBVjkeMNIxCk42KBxkjIyPRXf8AWl/yDf8ArzsdrcX9naTwQ3V3BBLcNshSSQK0reig9T7CrFeU6x4gsPGA+GniPToisd5rGU8wDemIpQykj0ZSPwre0fx5qd7deKLXV9Es9LufD6byj6kXE4KFlfPlDbGQPvfMevHFGyd+l/wS/wAw3at1t+Lf+R3FFZ+g319qWg2l7qtgunXVxGJHtVm83ys8gFtq5OMZ44PHPWtCm007MSd1dBRRRSGc34o/5GLwZ/2GpP8A033ldJXN+KP+Ri8Gf9hqT/033ldJQAUUVznxA0yx1b4f61BqdpDdRJZTSosyBgrrGxVhnoQehHIqZS5YtlRXNJI6Oivm3SIdM1Tw/wCCtK+H+lvYeMo4rW7ub6O0azAgAAleRmC+ep6cbgfX19l8XeP7HwvqNvprTaat/PC04Gp6kllCEBx99gxLE9AFPQ5xVyXL97X3f1+DIi7/AHJ/1/XU62iuC0j4p2fiHQdLudEsftGpancS2sVkbhQiPEMyM0oBGwDB3AHO5cDmrf8Awnl1a6a/9s+H7my1RtSXTbaz8zdHdysMq8cpVcx4yS20Y2njPFLrb+v61H/X9fcdlRXHweOLuLWr7Q9Z0ZbTV7eyN/bxQXfmw3cQODskKKQQeCCo68ZrJt/iney6Z4c1WXwrMum686QxSJeo0iTOpKLsIAKnGNxZfpRv/Xf/AIYNv6/ruejUVxVp49vTJ4jtNT0D7JqOhWyXZt47xZVniZWYEPtGD8hBGPxNUovibflPDlzN4VmWy8QxqLWRL1GcTNF5gQoQBtOCNxYdOQKP6+8Nv6/ruehUVwsXxMjs7PxC3ifTBpNzoLwrNEt2sqSCYDyishCgZJwc4A7nFVtG+LNrqutX2kJBp1zewWLX0B0vVkvIZkU4ZC4Vdjjjgg8cgmldf16X/Idj0Oo7i5gtLd7i7mjghjG55JWCqo9STwK4PTPibdXsXhi8uvDj2mmeInWGG5+2K7RyshZQUC8qdpG7IPtWb8QfFFzrvgbxdBo+gxajpenwT2tzeTXQQiVUO8xR7Dv2E8ksvIOM4oneKflf8P8Ah0EbSa87fienxSxzwpNBIskUihkdGyrA8ggjqKfXm7fEOx8M6DoWlLLpYvzo8FyV1PVEsYwmwAAOwYsxIOABjjkjjNvS/inbeI9J0Z/DWnm81LV1lZLOW4EaQLEdsjSSANhQcAEKd2RgelyVpNLoRF3im+p21vfWl3JNHaXUM7277JlikDGNsZ2sB0OOxqevN/hOZjrXjc3Onpps39tDfaxuHVD5KZwwAyD1zgdegr0ip6J90n96uV1fq/zCubvv+Sp6F/2BdS/9H2NdJXN33/JU9C/7Aupf+j7GgDpKKKKAOb8Uf8jF4M/7DUn/AKb7yukrm/FH/IxeDP8AsNSf+m+8rpKACiiigAooooAKKKKACiiigAooooAK5v4cf8ks8Kf9gWz/APRCV0lc38OP+SWeFP8AsC2f/ohKAOkooooAKKKKACiiigAooooAKKKKACiiigDm/Af/ACLt1/2GtV/9OFxXSVzfgP8A5F26/wCw1qv/AKcLiukoAKKhu7VL2zltpmlRJVKM0MzROAfR1IZT7gg188WGuW8PgDWCnjLW5PGFvqN1BptrHrE9zPKUkIiU25dlZSBySvTPNK+tv6/rUdtP6/rofRtFc9Dr1xpfhXSJvENvI+sXcUUbWdqoLy3BTcyKCQBjDEkkAAHJqpb/ABG0aWx1CW6ivLK7065S1uNOniBuBLJ/q0VUZg2/PBUkH14NU1ZtdiU7pM6yiuXs/H+lytrEeqW95os2jQrPeRX6JlImBKuGjZ1YHB4BznjFFr48s5NYtNN1DTNT0qe/RnsTexIFu9oyQpV2w2Odr7W9qQzqKK4Rvi3oqaUNUfTdZXT0vGs7i6NoNls4k8vLnd03f3ckdwK1dP8AHNlf+I59EbTtTs7tLY3cIurcILqINtLR8k9SOGCnnpR/X6/kG39fI6aiuEj+LmiPpVlqh03WE027uTam8a0HlwSeYYwH+bPLD+EN1GcHitbS/HOn6jrt7pE9nf6ZdWlt9rxqEIiEsGSPMX5jwCOQ2CPSgP6/T8zpaK5OD4h6dJqmn2lxp+pWkWqBv7Ou7iFRFeELuwuGLKSOQHVc9qop8WdGewiv/wCzdYWxa9NjNdNagR28nmeX853ZwW4+UHHfFHWwbK53VFct4i8WWcE97o8Onalq08Nt5l4mmqubaNgcFmLryQCQq5YgdK534Z+IItL+EPhdDb3V/e3kEnkWlsFaWXDsWOXZVAGRkswHIGckULVN+n6/5Ael0Vylv8RtDn8Pz6owuoXt7z7BJYSRf6SLnOBDsBILHIxgkY5zjNc54a1A6h8etVkfTtQ02QaFF5lvflS27zj8y7XdcEY+6e3rQtZJf1tf+vUHom/63senUUUUAc3Y/wDJU9d/7Aum/wDo++rpK5ux/wCSp67/ANgXTf8A0ffV0lABRRRQBDdtcpZytYRRTXIUmKOaUxozdgzBWIHuFP0rzi5+Huva74G0/TdWnsdL1nSr4XNlf6dcPKFBcl/vRqQSrMMcgkA+1em0UAeda34Q8SHx34Y1Lw9aaMuk+HYpIYobi+lSSZZIwh4WFgu3HHJz7VLbeDvEWh/2/pugz6dLpGtTzXKyXbus1i8w/eYRVIlXPIBZPqa9Aoo3Vn5/jq/xDbby/A89t/AGpeFfEGl6n4Mls5orfS49KurTUJHjEscZysiuith8k5BXBz2qjF8N/EUWi3Ji1XT7fWIdfl1rT5UjdogXyDHIDztKsQcdM969Qoou73/re/56hpa39bW/I858U+GvHPinwFqOmXkuhjUb9Uh8uKeZLaBFbcXBKMzuSAMEKAO/XOh4j8O+I9ch8Oz7dKZ7CUvf6ZcTSPa3BK4Vg2zLFD8wDLjP0BrtqKA/r7zy+X4b6/L4H8TaI97pnn6lqx1KzkRZFQEypJtcclRlMYG7Hqa0rvw54ztPEw8ReH7vRvtd9axwapZXYlEBKFijxuoLZAYjkAHrx276ijt/XS35B38/87/mcF4n8M+KtRuvC01g+l3j6Rem+upLu4kg81yGBRFWN8KA5wSSQABz1qjr2naP4v8AiRpL6Dq8M00CSQ63FaSrIr2yMGEUuCdp80AAHkgv6GvS6q2Wl6fprztp1jbWjXMhlnMEKoZXPVmwOT7mhaP8fnsD1X4FqiiigAooooA5vxR/yMXgz/sNSf8ApvvK6Sub8Uf8jF4M/wCw1J/6b7yukoAKxfF1nqmo+FNQsNCis5Lu8geAG8naKNA6lS2VRiSM9MDPqK2qKUkpKzGm07o8rX4beIJvAGh2/n6dpvivw0qppmoWs7yRSKqgFZMxqQrDIK4bsfUVpXnh7xzJq1h4msZdCttdjtjZXtm8s0lpcw7tysH2B0YNnjB69a9Coqm23f5/5/eSkkrf1/SOD1/wh4k1BdG1qw1SyXxNpVxJMomR/skiyKFeHAyyrgDB5OQTjnh2t+D9f8RaPZ3V9qVnB4gsL6O/s/IRzaxMgI8sg/MysGbLcHkccYruqKX9f1/X6jOIn8Na9qGrXHiK/h0tdWj0x7Cxs47qRoF3sC7vKYw3OBgBOMHk5yOdXwN41i8E+ENFjg0FpvD17DcySNqEwWZYs7QP3GQTuOfTA6549ZooWm3l+Db/ADbB67/1dW/JHm174W8ZTeJ/FWpQWuheTrWnJYwI+oTBo9gYB2xB3Dk4HoBnvVY+DvGg0XwRZpb6CZPDUsckzHUZgJ9kZjAX9xxkHPPQ8c9a9SooWn4fg7r8weu/9XSX5I8vvvh94k1rXPFk19Lpthb6z9mksri1uZJZbaW2IMTMjRKCCRkjdx0561vW1l48udHuxrkuhvei2eG2hs5Jo4ZXYY8yVmUkYHRQp6nnpjsqKVk48o7tO55PF4I8aw+FPBmlLBoDSeG7uO4kc6hMFnEalQB+44JDHPXGB1zxcfwH4lsdI8U6BpE+lzaRrrXM0Ml1JIk1pJMp3LtVCHXJ4OQRnoelemUU5e9e/W9/nb/JCXu2t0t+F/8ANnnX/CHeLdHvdK1bw1f6S9/FpkWm6hbXqyLBOkeSjoy5ZWGT1GDntVnUfCHiMeING8T6bf2NzrVnFLb3kF0Xit54pCGKowDMm0gY4Oe9d5RTbbd/613/ADFZWt/WhyXg7w5q+i654jv9WmsmTWLxbqOO2LkxkRqhBLAZ+76c9eOldbRRS6JD63Cubvv+Sp6F/wBgXUv/AEfY10lc3ff8lT0L/sC6l/6PsaAOkooooA5vxR/yMXgz/sNSf+m+8rpK5vxR/wAjF4M/7DUn/pvvK6SgAooooAKKKKACiiigAooooAKKKKACub+HH/JLPCn/AGBbP/0QldJXN/Dj/klnhT/sC2f/AKISgDpKKKKACiiigAooooAKKKKACiiigAooooA5vwH/AMi7df8AYa1X/wBOFxXSVzfgP/kXbr/sNar/AOnC4rpKAIbuaS2s5ZobaW7kjUssEJUPIf7oLlVz9SB71434f+H+val4LvrDVNJuPD2u2mqT6rpGom4gkEckj7guY3Y4PRgRgj1r2qilbW/9d/0HfS39dv1PJtb0rxd4y8P6Pea74Lszq2iXIlm0u+ngltdSVkZH2EMwUjhhvAwe5p974J1S68Npf+HfCukeGNTs9Qtr+30uERKLhod2VlkiAXLByB1AxnIycerUU+t16/l/kL/hvl/TOC1zSPEnxA8Catpuq2Mfh2W5gVbe3a5W4bzVYOGdkGAuVAwM8Ek9hUd1p2v+Krvw5PrWgSaY2g3P26fFzDJ9plWNlVIdrn5SWzl9nAAxzkeg0UegdLP+rnicvh/xfL8INZ8P/wDCIXq6je6rJcxIby02+W9x52S3ndgNpHqRjjJHTXY8RSfFLTNfj8I6i1jb6RLbSf6VabxI5VwoHnc427Sc4yfTmvRqKFpby/yt+Qb38/8AO54kvh/xgvwctvDv/CIXn9pR6qLlk+2Wmzyxdefnd5vp8uPX25roNT0bXdf+JNzcTeHr6y0q+8PSaU949xbEwyOd+SiyliBnbwDz7c16bRSstv61VvyHd3v/AFvf8zyjwf4SvtM+xwal8N9BsrvSwCdZtEtme7KDgxLtDK74GS5XGSc1kyaB4wf4S6hoH/CH3o1G41hrtEN5abPLa58/JbzuoA249SO3Ne20VV3e/wDW6f6E2Vrf1s1+p53p2n+I9D8ba5qMGhS3un+I0hn/AOPmFJbCZY9hjkBfDL7oWx6GuXt/h74gtvB/hGa+8Labrd3okc9vdaLeyxOs0crBg6OwKB1IHXtnmvbKKX/A/C/6OwzyzUvBWqNoemal4e8N6Xo19p2rR6kmiWpiiWVVUoVaRFCmQhiQeQOBnvWxpNjr9z8WJPEV5oj6fYT6MloRPdRNIkiys+CqMw79jjpz1A7uimnZ3/ra35A9Vb+t7/mFFFFIDm7H/kqeu/8AYF03/wBH31dJXN2P/JU9d/7Aum/+j76ukoAKKKKACiiigAooooAKKKKACiiigAooooAKKKKACiiigAooooA5vxR/yMXgz/sNSf8ApvvK6Sub8Uf8jF4M/wCw1J/6b7yukoAKKKKACiiigAooooAKKKKACiiigAooooAKKKKACiiigAooooAK5u+/5KnoX/YF1L/0fY10lc3ff8lT0L/sC6l/6PsaAOkooooA5vxR/wAjF4M/7DUn/pvvK6Sub8Uf8jF4M/7DUn/pvvK6SgAooooAKKKKACiiigAooooAKKKKACvO/APjTS7X4beGreW11xnh0m1RjFoF9IhIhUHa6wlWHoQSD1Br0Sub+HH/ACSzwp/2BbP/ANEJQAf8J5pH/Pn4g/8ACc1D/wCMUf8ACeaR/wA+fiD/AMJzUP8A4xW1qV5JYadNdQ2VxfvEMi3tigkf6b2VffkjpXC+HfjDa+LdJudS8O+EvEd9a2shilaNLQMGABICG4DHgjoDSvv5AdB/wnmkf8+fiD/wnNQ/+MUf8J5pH/Pn4g/8JzUP/jFauh6vDr+g2Wq2sU0MN5CsyRzqFkQEZwwBIB/Gr9U1Z2Dc5v8A4TzSP+fPxB/4Tmof/GKP+E80j/nz8Qf+E5qH/wAYrpKgvrk2Wnz3K28tyYYy4hh275MDOF3EDP1IFS2krsa1djC/4TzSP+fPxB/4Tmof/GKP+E80j/nz8Qf+E5qH/wAYrmW+OXh8fD9fGK6TrL6X9rNo4WKHzI3GOWUy4wc44J98V6NbTrdWsU8YISVA6huoBGaqz/r7xXOf/wCE80j/AJ8/EH/hOah/8Yo/4TzSP+fPxB/4Tmof/GK6SikBzf8Awnmkf8+fiD/wnNQ/+MUf8J5pH/Pn4g/8JzUP/jFbdhqNnqlqbnTrhLiESPF5iHI3IxVhnvggj8Ks0Aed+C/Gml22g3KSWuuEnVtScGPQL5xhr6dhysJGcEZHUHIIBBFdB/wnmkf8+fiD/wAJzUP/AIxR4D/5F26/7DWq/wDpwuK6SgDm/wDhPNI/58/EH/hOah/8Yo/4TzSP+fPxB/4Tmof/ABiukooA5v8A4TzSP+fPxB/4Tmof/GKP+E80j/nz8Qf+E5qH/wAYq74o8RQ+FfDt1rN1Z3d3b2q75UtAhcL6gMy5/A5qfQdbsvEmgWWsaW5e0vYVliLDBAPYjsR0I9RRuBl/8J5pH/Pn4g/8JzUP/jFH/CeaR/z5+IP/AAnNQ/8AjFV9D+Ien+I/GGqeH9I0/UJm0qTy7u+2xi3RsHABL72yQRwp5HpzXWUdLh1sc3/wnmkf8+fiD/wnNQ/+MUf8J5pH/Pn4g/8ACc1D/wCMVf8AE+tt4b8L6hrK2b3osYHnaFHCFgoyeT04HvVrSb7+1NFsr/y/K+1W8c3l7s7dyhsZ74zRvf8Ar+tg2Mb/AITzSP8Anz8Qf+E5qH/xij/hPNI/58/EH/hOah/8YrpKKAOb/wCE80j/AJ8/EH/hOah/8Yo/4TzSP+fPxB/4Tmof/GK3ZLy3hvILWSVVnuAxij7sFxuP4ZH51PQBzf8Awnmkf8+fiD/wnNQ/+MUf8J5pH/Pn4g/8JzUP/jFSWfihrrx9qHhl7BojZ2cd2tyZQRKrsy42gcfdPf8ACugo6XDrY5v/AITzSP8Anz8Qf+E5qH/xij/hPNI/58/EH/hOah/8YrpKKAOb/wCE80j/AJ8/EH/hOah/8Yo/4TzSP+fPxB/4Tmof/GK6SigDzuz8aaWvxJ1m4NrrmyTSbBABoF8XBWa8Jynk7gPmGCRg8gE7TjoP+E80j/nz8Qf+E5qH/wAYosf+Sp67/wBgXTf/AEffV0lAHN/8J5pH/Pn4g/8ACc1D/wCMUf8ACeaR/wA+fiD/AMJzUP8A4xXSVxTfEjPii/8AD8HhPX7i/sIhNKsf2TaYiSFdSZxuBx0HPqBR1sHS5o/8J5pH/Pn4g/8ACc1D/wCMUf8ACeaR/wA+fiD/AMJzUP8A4xVvwv4q0zxfo51HR3kMaStDNFNGUkhkX7yOp6EVs0Ac3/wnmkf8+fiD/wAJzUP/AIxR/wAJ5pH/AD5+IP8AwnNQ/wDjFdJRQBzf/CeaR/z5+IP/AAnNQ/8AjFH/AAnmkf8APn4g/wDCc1D/AOMV0lFAHN/8J5pH/Pn4g/8ACc1D/wCMUf8ACeaR/wA+fiD/AMJzUP8A4xXSUUAc3/wnmkf8+fiD/wAJzUP/AIxR/wAJ5pH/AD5+IP8AwnNQ/wDjFdJRQBzf/CeaR/z5+IP/AAnNQ/8AjFH/AAnmkf8APn4g/wDCc1D/AOMV0lc9o/iltV8Ya7oL6e9s2kCBvOeUN5wlDEEAdBhfXv2oDpcZ/wAJ5pH/AD5+IP8AwnNQ/wDjFH/CeaR/z5+IP/Cc1D/4xXSVz/iXxS3h3UdDtjp73KatfpZecJQqwswJyRyTwp4/WjqkHS5H/wAJ5pH/AD5+IP8AwnNQ/wDjFH/CeaR/z5+IP/Cc1D/4xXSUUAed+I/Gmlza94TdLXXAIdWkdg+gXykj7DdL8oMILHLDhcnGTjAJHQf8J5pH/Pn4g/8ACc1D/wCMUeKP+Ri8Gf8AYak/9N95XSUAc3/wnmkf8+fiD/wnNQ/+MUf8J5pH/Pn4g/8ACc1D/wCMV0lZniLW/wDhHdCuNUbT7zUIrZDJLFZ+WZFQAlmw7qCAB0Bz6A0m0ldjSbdkZ3/CeaR/z5+IP/Cc1D/4xR/wnmkf8+fiD/wnNQ/+MVk2/wAV9MNjpWoano2saTpmrsi2l/dxwtCxcZQMYpXKZ/2gK7qqs0TdM5v/AITzSP8Anz8Qf+E5qH/xij/hPNI/58/EH/hOah/8YrpKKQzm/wDhPNI/58/EH/hOah/8Yo/4TzSP+fPxB/4Tmof/ABiukooA5v8A4TzSP+fPxB/4Tmof/GKP+E80j/nz8Qf+E5qH/wAYrpKKAOb/AOE80j/nz8Qf+E5qH/xij/hPNI/58/EH/hOah/8AGK6SigDm/wDhPNI/58/EH/hOah/8Yo/4TzSP+fPxB/4Tmof/ABiukrK8T623hvwvqGsrZveixgedoUcIWCjJ5PTge9JtJXY0m3ZFD/hPNI/58/EH/hOah/8AGKP+E80j/nz8Qf8AhOah/wDGK2dJvv7U0Wyv/L8r7VbxzeXuzt3KGxnvjNW6ppp2ZKaaujm/+E80j/nz8Qf+E5qH/wAYo/4TzSP+fPxB/wCE5qH/AMYp/hnxS3iLUdctH097J9Ivfsjb5Q5k+RX3ccDhhxk10NLpcZzf/CeaR/z5+IP/AAnNQ/8AjFZttr1prfxT0j7FDqEXk6LqG77bptxaZzPZY2+ci7unOM44z1FdtXN33/JU9C/7Aupf+j7GgDpKKKKAOb8Uf8jF4M/7DUn/AKb7yukrm/FH/IxeDP8AsNSf+m+8rpKACiiigAooooAKKKKACiiigAooooAK5v4cf8ks8Kf9gWz/APRCV0lc38OP+SWeFP8AsC2f/ohKAOhn/wCPeT/cP8q+a/gBZ+ILjQkl0y6gGkw+Ig19bCAmZh5QwwfdjaDtyNo6Zz2r6O1HT4NV0+WyuzMIZhh/IuJIXxns6EMPwPtXJad8IfBuj2s1tpNnqNjbzndLFba1expIcYywWYA8etEfdk5en4O4S1jy/wBbNfqY3xZ0y41XwDPq3g7Xr/TLzS2ZYo9PvZIIrkq+14iiEBmLZAI5zx3rm4PGktp8B9Z8eeHtQv7jVLgCN4Lm9luI9OcuqFVSRmxgHdk9cjtwPTE+HfhqK00q2gtbqGDSCWso4dRuUETEkljtkG45J5bJwSOlR6H8MfCPhyPUItJ0pkh1JCl5DNdzTxzg9dyyOwJ98Z5PNK2kkuv9fj+H3jvqm+n9fh+JyHl6v4W8B3vjjSvFGoarBJoCzJYXsjXCfaNoPnhmY7R1JQADr9KzfAN94wvJPD+rCPVrnRtT0yT+1bnUtQgkjecqWSSCMSsyDIK7Qq8dVyCa9N0TwP4e8O2L2elaeUtWVk8iaeSdFVvvKqyMwUHuBgGo9K8AeHND0+5sdJsprS1uVZWijvJwqBvveX8/7sn1TbTnq5W67fj/AJ/gvIUdEk/621/D8T5ti/5NAvv+w7/7Mtei+IPEet6h8SrDwjaLq5tIvD63MMGkXaW0s07LgOzvJHlV/uhjyOQRmu3HwZ8CjQW0QaRcDTHmFw1p/ad15ZkxjdjzOtal58PfDN+NMN1YSPNpSBLO5F5Ms8Sjt5ocOR9WNN63+X/pNvz1Drf1/GV/y0PIfEWoeMItU+F8Gv6nqWlarf3T2WqxWeokJMEkQAlY2Me4hjk4zzjsMaHhbVNSvLX4s6HfapqF1aaS8osmmu5GlhG2X5RJu34+ReM/zNem618PPDPiDUNPvtVsZpbjTAPsbx3s8QgIOcgI4G7OMtjJwMnijRfh54Z8P6hqN7pdhJHPqgYXplvJpluMnJ3K7kE8nnGeT6mpesZLvzfja35fiNaNPtb8L3/P8Dkv2d9Phg+EGl3qPctLc+aHWS6keMYmcDbGzFU99oGe+a9TrH8OeE9F8JWTWfh6y+yW7MW8vzXkC5JOBvJ2jJJwMDJNbFXOXM7kRVkc34D/AORduv8AsNar/wCnC4rpK5vwH/yLt1/2GtV/9OFxXSVJQUUUUAYHjnH/AAheoZ6YT/0Na8/0q+uvAfiTXfAVnlTqUn2zw6SMqizNiVfpE258egNeleIfDWmeKdOFhrcdxLa7gxjhu5YAxHTd5bKWHfByM80+Lw/psVxYXH2dpbjT4nhtrieV5ZURsbhvcliTtHJJNLrr/S/4cOmn9P8A4Y8s0SX/AIQzX/inLo8HmtpNjZvBG3O4pakjPryMn15q7eT6jovh3wj4p0jW9Q1C51K6s4r2Ge6aWG8SfAbbGTtjIJyNgXGOc12WkfD3w5oeuXOsadbXi312MXMsupXMwn4x86vIVfAPGQcdqm0vwN4d0a6jn07TzEYXaSCJp5Hht2bOTHEzFIycnlQOpqk9U35fhv8AeD6pef5K33Hm+rtceNfAHj3WL7VdRt5tPlvbS3s7a6eKKGOFSNrxg7XL8klweG4xirQvtZ1jUdG8M6cUEMXhy2u0j/tmbTXlZgVLh4onZ9u0fLkD5uQe3dX/AMPvDGpX99eXWmnzdRjMd4IriWJLkYx86IwVjj+IjI9abqfw68KaxYWFnf6PG8WmjbaGOR43hHoHRg2PbNSlZWfl+Ca/N3G9X9/4tP8ASxwgTxOmpeB9H17xJM11PPfWl9Npl0wWZY4mK5YquXHQtjqM9RTvF6Xdla65Z6Prmu6lc6FpCuG/tB7cWThHcSTSKQZ5HAB2lCMLzjdmu5vPh54ZvbzTLqWxnjl0lQtj9nvp4Vtx/sqjhcnucZPfNTal4E8N6vqtxqOo6Wk1zdQfZ7hjI4WZMEAOgO1iAeCRkdiKJXa03/qwRsnr/WpwaWMeufFLwXqN/NefaLvw49zK0N9NCC48k9EcAAljlRw3cGqUVz4z8U6bd+IdIv7SwuLLUpgZZ9cnWOCOKUgwyWawFDlB1LFjnOe1ekf8IH4aH9lf8Sxf+JOpSyPmyZjU4ypO75wcDhs9KY/w88KyeJm8QNo8P9pM4keVXcK7jozRg7GYHnJBOeattcya21/F3/4BCT5bPy/BW/4Jzdxpo1j4x+JNPN1dWfn+HrVRcWc7RSxnzpMMrKQQQfz6Hisfw1Pc6vpVj4F1DUtWTX9L1F/7UuE1KcTNDH83m79+4pKHjUKTgbjgfLXcXnhOw0zWL/xbo2mXF74iaBlVG1OZFuOOIyGYxqvp8uAeeKd4V0u9a+vvEWvadBp2rakscbW0UolMEUYO1GkAAZssxJHHIHapjpZdv821/wAH/hipa3f9bJP/AIH/AA50wGBiiiigAooooA5ux/5Knrv/AGBdN/8AR99XSVzdj/yVPXf+wLpv/o++rpKACvG9fPidPjN4ol8FS2Q1GLw/busN3AZPOw7fKpDqFb0JDDoMDrXslc1a/D/w9ZeKpPEdvBerq0v+suG1O5beP7pUyFSo7KRgcYHFK2q+f5NfqO+j+X5pnH+CtR0zQ/gnrGu+FZZ72+CXN9e/bAPOF7ty6yKANuCBwB0HvmoNMHi+xm0rxLDf2sunT2rtcwtrtxff2gTEXQxxtAqxMCM4QgYzxxXd23gTw7Z+JrrX7SwaDULzP2lo7mVY58jB3xBvLbg91689eaboPw/8L+GNQkvdC0iO0nk3ciR2VN3XYrEqmf8AZApvXXbT7t/w/wAhbab7/P8A4P8AWhzHhOCfWvD/AIZ8YDxbfLc3RSS+iaZpLe5MnBt1h3bI9rHAZVyNvOetYi6nqes/CXU/HkOt6hZ65ZvczpCtywt4RDIwFu0GdjDaoBJG7JzmvQtK+H/hbQ9ak1bStHhtryR2csrMVVm6sqE7UJHGVApz+BPDkmpz3zadiS4lE08SzyLBNIOQ7whvLZsgHJUnIoeu2n6f1/W7uLTfX9d/6/pHJRHUfEPxONhd6rqthaXfhqG9ltLa6MXlStKQdpHKkYAyMHjrya5mK91tPhPp/iiTxJq8mo2GqraJuucRyxC88kiRAMSEr1LZOa9Sn8CaDceJJ9feK9XU54TA9xHqdzH+7IxsCrIFUdwABg8jnms//hU3g/8AsL+xvsN5/Z3n/aPs39rXezzM53f6315+vPWmnZp/18V/y0FbS39fDb89TJmtLzWfix4h0eXXdWtrBdJtp0itbsxeW7PICVI5X7o6Yz3yOK5ex1DW/wDhW/hDxXN4i1SXUG1S3s5Ua4xDNEbgxMHjAwxKjO5snPevSI/h14di1W41OOPUVvbmD7NNcf2vd73jxgKT5vbt3B5HPNVf+FT+EP7Et9HFjejT7af7RDbjVrsLHJnO4fvexGR6EkjkmlHS3y/Nv8tBvW/n/lb89TldTk8V+MNe8UWmh3UVnPpNyLe0c65PaG2/dqwkeBIWWVWJJ+ckEDAAxk2rOPVNc+I39maj4gv0gn8M293MunXTRRmZpCrPGcBlBxkEYOPxFdZqnw68Ka1qsOpanpCXF7DGsXnNNIGkQdBJhv3g/wB/dT5vAPh+bxDPrhhvU1KeE27zw6ncx/uyMbAqyBVA6gADB5GDzSSsl/XRr8d3+o273/rqn/wDzvQ/E+r6p4c8CaJfardRnWbq8hu9QSTbPIluX2oJByGfCgsPm4ODk5qC4ubnwLrHxMutKu7i4ltrbTjDLfTtM0QcMuS7bmIXcTlt3TnNehwfDLwlb+HhocemSHT1n+0xxSXk7tDL13xuzloznJ+UjqfWrtl4I8O2Nze3EOmrJNfwiC7kuJXnadAMYcuTnj1696b6i/r8f8jgLibxd4OF54h+02smmf2VPKLF9buNSaeZELpLGZIU2Dj5gCFweBnFVtU0phF8ONcl1vUdQuL7V7WS4M92zwyM8TtuWMnbHjkAIBwec16J4f8AAXhnwuJxoelR24uEMbh5HlGw9UG8nap/ujA9qrQfDLwjbpbxxaSfKtbgXNvC11M0cEnPKIXKoOTwAB7cCmtJJ9rfg7v+vIT1i16/irL+vM6uiiikM5vxR/yMXgz/ALDUn/pvvK6Sub8Uf8jF4M/7DUn/AKb7yukoAKxvGP8AyI+u/wDYOuP/AEW1bNZ+uaHY+I9Jl03Vlme0m4kSG5kgLj+6WjZSQc8jOD3qZxcotLqVB8skzwe0S8m8OfD7T/Hl9Evgy6t7d4ZLODysXKqDHFcOzN8pH8S7QT2HWvRPGOoavqHxAs/DGm7BA+mtebDq8unNM+/b8ssUbudoGdowPmyc4xXQQ/D/AMNQ+EJvC/8AZ7y6LMMG0uLuaYKOMBWdyyAYBAUjB5HNQXPwy8J3ui2ml3mmSXFtZOXtTLeTvLAT2SUvvUcD5Q2PatJO8vK7f3/5fottyIqy+Vvu/wA/1+Rx9vf+IrF/C/hLxVralr6/uoLm+sbp/MdI0DxQGYqjbzuALKATt65Jq1rs9/4Qhs9Ei8S3l1b6rr8Nq1xMxabT7eRS3lecxYsSVwGY7gH+hrs9Q8EeG9U8Nw6DfaTDLpsBDRQ5ZTGw/iVgQwbk/MDk5PPNOXwZ4eXw0+gHSoW0yQ5eB8tvbOdxYncWyB82c8Dmp/4Hz2/y/rUf9em/+f8AWhyMv9o6D8QLrw9ZanqE+lX2hy3q/aLp5pbKVGC5WVyW2tnoSeRxiubs5taXwV8PNeXxNrBvtUu7azut9zvjeOVW3ZQgqWGMhiCc16jD4L0SDT7uzSC5K3sYiuJnvp2ndB0Tzi5kCjJ4DY5PrWY3wr8JNpdhp32O+FppsvnWcQ1a7Agfsy4l4I7emTjGTQtHr5fg23+DsD128/yX6q5zcTahpWuePdEh1vVJra00qG9tZLm6aWWCRkk3bXPIGUBx0Has2E6vFpfw41NPE2s/aNb8m1vQ9zvR0e2LEhCCu8FchyCfUmu7n+Gnhi5v9QvZre/a51KLybuQatdgzJ/cOJfu9sDgAkdDTG+F3hVrXTLY2t/5OlNusVGr3Y+znsV/e8Y6D0HA4oj5+X4N3/B2B9bef4pfqrnD3/iDV/B6+OrCy1S7uorCfTxazajdNI1qLjCyHzGDEKM5GQwX0PStjT9L8VaZq1615qcdtpV5pkrJbJrlxqEyzJz50byxKUXBwRnGSMV1MHw+8NQalqd/9hmmn1ZDHffab2eZLhT2ZHcrx0HHA4GKbpvw58LaPpV5p2maa9tb3sflTeXdzByn9xZN+5V9lIFS03Frrb9Lf8EpNJrtc8+0e71a28P/AA1199f1W5utVuoLW8jnui0MsckTk5ToWBUHcfm96NXa48a+APHusX2q6jbzafLe2lvZ2108UUMcKkbXjB2uX5JLg8NxjFdx/wAKr8JfYNPshaXwttMk82yjGr3YFu/Yr+94I7emTjqat33w98MajfX13daafN1CPy7wR3MsaXIxj50VgrHH8RGR61U/e5rdb28r2t+T+8mHu8t+lvna/wDmvuOGF9rOsajo3hnTighi8OW12kf9szaa8rMCpcPFE7Pt2j5cgfNyD2dpl74iudb8N+CfFOt7pDb3c15eaZcujXZicKkQlCo2QCSxXBJXr1rttT+HXhTWLCws7/R43i00bbQxyPG8I9A6MGx7ZqxqHgnw7qen2Fldaaiw6cQ1mYJHhe3PqjoQy++Dz3qm7yb83+tvuv8AgSlaKXkv6+ZzHwtsf7N1/wAc2n2m4uhFrKgS3MhkkI8iMjcx5OBxk88c16LWRo3hbRvD91d3OkWQgnvWD3EpkZ2lYADJLE88fj1rXpdEvJfgiur9X+YVzd9/yVPQv+wLqX/o+xrpK5u+/wCSp6F/2BdS/wDR9jSA6SiiigDm/FH/ACMXgz/sNSf+m+8rpKyNf0Aa8tgy6jeabcafdfaoLizERdWMUkRBEiOpBWVu3pVL/hF9X/6HvxB/340//wCRaAOkorm/+EX1f/oe/EH/AH40/wD+RaP+EX1f/oe/EH/fjT//AJFoA6Siub/4RfV/+h78Qf8AfjT/AP5Fo/4RfV/+h78Qf9+NP/8AkWgDpKK5v/hF9X/6HvxB/wB+NP8A/kWj/hF9X/6HvxB/340//wCRaAOkorm/+EX1f/oe/EH/AH40/wD+RaP+EX1f/oe/EH/fjT//AJFoA6Siub/4RfV/+h78Qf8AfjT/AP5Fo/4RfV/+h78Qf9+NP/8AkWgDpK5v4cf8ks8Kf9gWz/8ARCUf8Ivq/wD0PfiD/vxp/wD8i1W03wPe6RpVppun+NvEENpZwpBBH5Vg2xEUKoybYk4AHJOaAOtorm/+EX1f/oe/EH/fjT//AJFo/wCEX1f/AKHvxB/340//AORaAOkorm/+EX1f/oe/EH/fjT//AJFo/wCEX1f/AKHvxB/340//AORaAOkorm/+EX1f/oe/EH/fjT//AJFo/wCEX1f/AKHvxB/340//AORaAOkorm/+EX1f/oe/EH/fjT//AJFo/wCEX1f/AKHvxB/340//AORaAOkorm/+EX1f/oe/EH/fjT//AJFo/wCEX1f/AKHvxB/340//AORaAOkorm/+EX1f/oe/EH/fjT//AJFo/wCEX1f/AKHvxB/340//AORaADwH/wAi7df9hrVf/ThcV0lclYeB73TLZ4LHxt4giieaWdl8qwbLyyNI55tu7uxx0GcDAqz/AMIvq/8A0PfiD/vxp/8A8i0AdJRXN/8ACL6v/wBD34g/78af/wDItH/CL6v/AND34g/78af/APItAHSUVzf/AAi+r/8AQ9+IP+/Gn/8AyLR/wi+r/wDQ9+IP+/Gn/wDyLQB0lFc3/wAIvq//AEPfiD/vxp//AMi0f8Ivq/8A0PfiD/vxp/8A8i0AdJRXN/8ACL6v/wBD34g/78af/wDItH/CL6v/AND34g/78af/APItAHSUVzf/AAi+r/8AQ9+IP+/Gn/8AyLR/wi+r/wDQ9+IP+/Gn/wDyLQB0lFc3/wAIvq//AEPfiD/vxp//AMi0f8Ivq/8A0PfiD/vxp/8A8i0AdJRXN/8ACL6v/wBD34g/78af/wDItH/CL6v/AND34g/78af/APItAHSUVzf/AAi+r/8AQ9+IP+/Gn/8AyLR/wi+r/wDQ9+IP+/Gn/wDyLQB0lFc3/wAIvq//AEPfiD/vxp//AMi0f8Ivq/8A0PfiD/vxp/8A8i0AFj/yVPXf+wLpv/o++rpK5KPwPexarPqSeNvEAu7iGOCWTyrD5kjZ2QY+zYGDK/IGTu56DFn/AIRfV/8Aoe/EH/fjT/8A5FoA6Siub/4RfV/+h78Qf9+NP/8AkWj/AIRfV/8Aoe/EH/fjT/8A5FoA6Siub/4RfV/+h78Qf9+NP/8AkWj/AIRfV/8Aoe/EH/fjT/8A5FoA6Siub/4RfV/+h78Qf9+NP/8AkWj/AIRfV/8Aoe/EH/fjT/8A5FoA6Siub/4RfV/+h78Qf9+NP/8AkWj/AIRfV/8Aoe/EH/fjT/8A5FoA6Siub/4RfV/+h78Qf9+NP/8AkWj/AIRfV/8Aoe/EH/fjT/8A5FoA6Siub/4RfV/+h78Qf9+NP/8AkWj/AIRfV/8Aoe/EH/fjT/8A5FoA6Siub/4RfV/+h78Qf9+NP/8AkWj/AIRfV/8Aoe/EH/fjT/8A5FoA6Siub/4RfV/+h78Qf9+NP/8AkWj/AIRfV/8Aoe/EH/fjT/8A5FoA6Siub/4RfV/+h78Qf9+NP/8AkWj/AIRfV/8Aoe/EH/fjT/8A5FoAPFH/ACMXgz/sNSf+m+8rpK5K68D3t7c2U9z428QPLYzGe3byrAbHMbxk8W3PySOMHI5z1Aqz/wAIvq//AEPfiD/vxp//AMi0AdJRXN/8Ivq//Q9+IP8Avxp//wAi0f8ACL6v/wBD34g/78af/wDItAHSUVzf/CL6v/0PfiD/AL8af/8AItH/AAi+r/8AQ9+IP+/Gn/8AyLQB0lFc3/wi+r/9D34g/wC/Gn//ACLR/wAIvq//AEPfiD/vxp//AMi0AdJRXN/8Ivq//Q9+IP8Avxp//wAi0f8ACL6v/wBD34g/78af/wDItAHSUVzf/CL6v/0PfiD/AL8af/8AItH/AAi+r/8AQ9+IP+/Gn/8AyLQB0lFc3/wi+r/9D34g/wC/Gn//ACLR/wAIvq//AEPfiD/vxp//AMi0AdJRXN/8Ivq//Q9+IP8Avxp//wAi0f8ACL6v/wBD34g/78af/wDItAHSUVzf/CL6v/0PfiD/AL8af/8AItH/AAi+r/8AQ9+IP+/Gn/8AyLQB0lFc3/wi+r/9D34g/wC/Gn//ACLR/wAIvq//AEPfiD/vxp//AMi0AdJXN33/ACVPQv8AsC6l/wCj7Gj/AIRfV/8Aoe/EH/fjT/8A5FqTTfC0lnr8Wr3/AIg1TVriG1ltYVvEtlSNZGjZyBFChJJhTqT39aAOgooooA//2Q==)"
      ],
      "metadata": {
        "id": "dvqKQum6tExw"
      }
    },
    {
      "cell_type": "code",
      "metadata": {
        "id": "YeiBlAo2RYsR"
      },
      "source": [
        "def inference(serviceSet, foodSet):\n",
        "  inferenceSet = []\n",
        "  recommendedSet, moderatelySet, notRecommendedSet = [], [], []\n",
        "\n",
        "  recommendedSet.append(min(foodSet[2], serviceSet[2]))\n",
        "  recommendedSet.append(min(foodSet[2], serviceSet[1]))\n",
        "  recommendedSet.append(min(foodSet[1], serviceSet[2]))\n",
        "  \n",
        "\n",
        "  moderatelySet.append(min(foodSet[1], serviceSet[1]))\n",
        "  moderatelySet.append(min(foodSet[2], serviceSet[0]))\n",
        "\n",
        "  notRecommendedSet.append(min(foodSet[0], serviceSet[0]))\n",
        "  notRecommendedSet.append(min(foodSet[1], serviceSet[0]))\n",
        "  notRecommendedSet.append(min(foodSet[0], serviceSet[1]))\n",
        "  notRecommendedSet.append(min(foodSet[0], serviceSet[2]))\n",
        "\n",
        "  inferenceSet.append(max(recommendedSet))\n",
        "  inferenceSet.append(max(moderatelySet))\n",
        "  inferenceSet.append(max(notRecommendedSet))\n",
        "  \n",
        "  return inferenceSet"
      ],
      "execution_count": null,
      "outputs": []
    },
    {
      "cell_type": "markdown",
      "metadata": {
        "id": "rygp6k4cJ1vV"
      },
      "source": [
        "# **DEFUZZIFICATION**"
      ]
    },
    {
      "cell_type": "code",
      "metadata": {
        "id": "vT8e3KxLfCZT"
      },
      "source": [
        "def defuzzification(inferenceSet):\n",
        "  multiplier = (inferenceSet[0]*100) + (inferenceSet[1]*80) + (inferenceSet[2]*50) \n",
        "  divider = inferenceSet[0] + inferenceSet[1] + inferenceSet[2]\n",
        "  return multiplier/divider"
      ],
      "execution_count": null,
      "outputs": []
    },
    {
      "cell_type": "code",
      "metadata": {
        "colab": {
          "base_uri": "https://localhost:8080/",
          "height": 319
        },
        "id": "B71JA4GAb0PY",
        "outputId": "c3b1c4c9-b673-4ecb-fece-c17be81bd94f"
      },
      "source": [
        "xnotRecommended = [50,50]\n",
        "xmoderately = [80,80]\n",
        "xRecommended = [100,100]\n",
        "\n",
        "y = [0,1]\n",
        "\n",
        "plt.figure(figsize=(10,4))\n",
        "plt.title('Defuzzifikasi',fontsize = 20)\n",
        "plt.plot(xnotRecommended,y,label='not Recommended')\n",
        "plt.plot(xmoderately,y,label='Moderately')\n",
        "plt.plot(xRecommended,y,label='Recommended')\n",
        "plt.xlabel('Nilai')\n",
        "plt.ylabel(r'$\\mu\\ output$')\n",
        "plt.legend()"
      ],
      "execution_count": null,
      "outputs": [
        {
          "output_type": "execute_result",
          "data": {
            "text/plain": [
              "<matplotlib.legend.Legend at 0x7f4ca4bfd850>"
            ]
          },
          "metadata": {},
          "execution_count": 11
        },
        {
          "output_type": "display_data",
          "data": {
            "image/png": "[encoded data removed]",
            "text/plain": [
              "<Figure size 720x288 with 1 Axes>"
            ]
          },
          "metadata": {
            "needs_background": "light"
          }
        }
      ]
    },
    {
      "cell_type": "markdown",
      "metadata": {
        "id": "6YclYlMSd8Ek"
      },
      "source": [
        "# **MAIN PROGRAM**\n",
        "\n",
        "\n",
        "\n"
      ]
    },
    {
      "cell_type": "code",
      "metadata": {
        "id": "5Z779wb_dGzD",
        "colab": {
          "base_uri": "https://localhost:8080/",
          "height": 323
        },
        "outputId": "16b14fe0-a0ad-4d48-a26d-c190690411b7"
      },
      "source": [
        "hasilAkhir = []\n",
        "for row in range(100):\n",
        "  fuzziPelayanan = fuzzificationService(data['pelayanan'][row])\n",
        "  fuzziMakanan = fuzzificationFood(data['makanan'][row])\n",
        "  inferensi = inference(fuzziPelayanan,fuzziMakanan)\n",
        "  hasilAkhir.extend([defuzzification(inferensi)])\n",
        " \n",
        "data['hasil'] = hasilAkhir\n",
        "data = data.sort_values(by='hasil', ascending=False)[:10]\n",
        "data['id'].to_excel('peringkat.xls', index=False, header=False)\n",
        "\n",
        "data"
      ],
      "execution_count": null,
      "outputs": [
        {
          "output_type": "execute_result",
          "data": {
            "text/html": [
              "\n",
              "  <div id=\"df-b46a3e35-715b-467d-ae7a-c78b92cb93a0\">\n",
              "    <div class=\"colab-df-container\">\n",
              "      <div>\n",
              "<style scoped>\n",
              "    .dataframe tbody tr th:only-of-type {\n",
              "        vertical-align: middle;\n",
              "    }\n",
              "\n",
              "    .dataframe tbody tr th {\n",
              "        vertical-align: top;\n",
              "    }\n",
              "\n",
              "    .dataframe thead th {\n",
              "        text-align: right;\n",
              "    }\n",
              "</style>\n",
              "<table border=\"1\" class=\"dataframe\">\n",
              "  <thead>\n",
              "    <tr style=\"text-align: right;\">\n",
              "      <th></th>\n",
              "      <th>nama_perusahaan</th>\n",
              "      <th>alamat</th>\n",
              "      <th>ket</th>\n",
              "      <th>id</th>\n",
              "      <th>pelayanan</th>\n",
              "      <th>makanan</th>\n",
              "      <th>hasil</th>\n",
              "    </tr>\n",
              "  </thead>\n",
              "  <tbody>\n",
              "    <tr>\n",
              "      <th>41</th>\n",
              "      <td>CV. BOGA MANDIRI/ GAMBRINUS</td>\n",
              "      <td>Jl. Prof.Drg.Suria Somantri No. 59</td>\n",
              "      <td>-</td>\n",
              "      <td>42</td>\n",
              "      <td>94</td>\n",
              "      <td>10</td>\n",
              "      <td>100.000000</td>\n",
              "    </tr>\n",
              "    <tr>\n",
              "      <th>23</th>\n",
              "      <td>CAFE PANDAWA ABADI PERKASA</td>\n",
              "      <td>Jl. Aceh No. 44</td>\n",
              "      <td>-</td>\n",
              "      <td>24</td>\n",
              "      <td>100</td>\n",
              "      <td>9</td>\n",
              "      <td>100.000000</td>\n",
              "    </tr>\n",
              "    <tr>\n",
              "      <th>30</th>\n",
              "      <td>CAFÉ PISA</td>\n",
              "      <td>Jl. Cihampelas No. 160</td>\n",
              "      <td>-</td>\n",
              "      <td>31</td>\n",
              "      <td>74</td>\n",
              "      <td>9</td>\n",
              "      <td>100.000000</td>\n",
              "    </tr>\n",
              "    <tr>\n",
              "      <th>21</th>\n",
              "      <td>C.F.C.</td>\n",
              "      <td>Jl. Raya Ujung Berung No. 209</td>\n",
              "      <td>-</td>\n",
              "      <td>22</td>\n",
              "      <td>79</td>\n",
              "      <td>9</td>\n",
              "      <td>100.000000</td>\n",
              "    </tr>\n",
              "    <tr>\n",
              "      <th>78</th>\n",
              "      <td>GELATO BAR</td>\n",
              "      <td>Jl. Sukajadi No. 137-139</td>\n",
              "      <td>-</td>\n",
              "      <td>79</td>\n",
              "      <td>87</td>\n",
              "      <td>9</td>\n",
              "      <td>100.000000</td>\n",
              "    </tr>\n",
              "    <tr>\n",
              "      <th>68</th>\n",
              "      <td>DAGO 254</td>\n",
              "      <td>Jl. Ir. H. Juanda No. 254</td>\n",
              "      <td>-</td>\n",
              "      <td>69</td>\n",
              "      <td>86</td>\n",
              "      <td>10</td>\n",
              "      <td>100.000000</td>\n",
              "    </tr>\n",
              "    <tr>\n",
              "      <th>53</th>\n",
              "      <td>CV. KARYA PEMBANGUNAN UTAMA</td>\n",
              "      <td>Jl. Purnawarman</td>\n",
              "      <td>-</td>\n",
              "      <td>54</td>\n",
              "      <td>64</td>\n",
              "      <td>10</td>\n",
              "      <td>97.000000</td>\n",
              "    </tr>\n",
              "    <tr>\n",
              "      <th>15</th>\n",
              "      <td>BUTTONS</td>\n",
              "      <td>Jl. Pelajar Pejuang No. 72</td>\n",
              "      <td>-</td>\n",
              "      <td>16</td>\n",
              "      <td>82</td>\n",
              "      <td>6</td>\n",
              "      <td>96.666667</td>\n",
              "    </tr>\n",
              "    <tr>\n",
              "      <th>24</th>\n",
              "      <td>CAFÉ  LOVEBIRD</td>\n",
              "      <td>Jl. A. Yani No. 134-136</td>\n",
              "      <td>-</td>\n",
              "      <td>25</td>\n",
              "      <td>61</td>\n",
              "      <td>10</td>\n",
              "      <td>94.782609</td>\n",
              "    </tr>\n",
              "    <tr>\n",
              "      <th>82</th>\n",
              "      <td>GOKANA TEPPAN</td>\n",
              "      <td>Jl. Pelajar Pejuang 45 No. 119</td>\n",
              "      <td>-</td>\n",
              "      <td>83</td>\n",
              "      <td>69</td>\n",
              "      <td>8</td>\n",
              "      <td>93.333333</td>\n",
              "    </tr>\n",
              "  </tbody>\n",
              "</table>\n",
              "</div>\n",
              "      <button class=\"colab-df-convert\" onclick=\"convertToInteractive('df-b46a3e35-715b-467d-ae7a-c78b92cb93a0')\"\n",
              "              title=\"Convert this dataframe to an interactive table.\"\n",
              "              style=\"display:none;\">\n",
              "        \n",
              "  <svg xmlns=\"http://www.w3.org/2000/svg\" height=\"24px\"viewBox=\"0 0 24 24\"\n",
              "       width=\"24px\">\n",
              "    <path d=\"M0 0h24v24H0V0z\" fill=\"none\"/>\n",
              "    <path d=\"M18.56 5.44l.94 2.06.94-2.06 2.06-.94-2.06-.94-.94-2.06-.94 2.06-2.06.94zm-11 1L8.5 8.5l.94-2.06 2.06-.94-2.06-.94L8.5 2.5l-.94 2.06-2.06.94zm10 10l.94 2.06.94-2.06 2.06-.94-2.06-.94-.94-2.06-.94 2.06-2.06.94z\"/><path d=\"M17.41 7.96l-1.37-1.37c-.4-.4-.92-.59-1.43-.59-.52 0-1.04.2-1.43.59L10.3 9.45l-7.72 7.72c-.78.78-.78 2.05 0 2.83L4 21.41c.39.39.9.59 1.41.59.51 0 1.02-.2 1.41-.59l7.78-7.78 2.81-2.81c.8-.78.8-2.07 0-2.86zM5.41 20L4 18.59l7.72-7.72 1.47 1.35L5.41 20z\"/>\n",
              "  </svg>\n",
              "      </button>\n",
              "      \n",
              "  <style>\n",
              "    .colab-df-container {\n",
              "      display:flex;\n",
              "      flex-wrap:wrap;\n",
              "      gap: 12px;\n",
              "    }\n",
              "\n",
              "    .colab-df-convert {\n",
              "      background-color: #E8F0FE;\n",
              "      border: none;\n",
              "      border-radius: 50%;\n",
              "      cursor: pointer;\n",
              "      display: none;\n",
              "      fill: #1967D2;\n",
              "      height: 32px;\n",
              "      padding: 0 0 0 0;\n",
              "      width: 32px;\n",
              "    }\n",
              "\n",
              "    .colab-df-convert:hover {\n",
              "      background-color: #E2EBFA;\n",
              "      box-shadow: 0px 1px 2px rgba(60, 64, 67, 0.3), 0px 1px 3px 1px rgba(60, 64, 67, 0.15);\n",
              "      fill: #174EA6;\n",
              "    }\n",
              "\n",
              "    [theme=dark] .colab-df-convert {\n",
              "      background-color: #3B4455;\n",
              "      fill: #D2E3FC;\n",
              "    }\n",
              "\n",
              "    [theme=dark] .colab-df-convert:hover {\n",
              "      background-color: #434B5C;\n",
              "      box-shadow: 0px 1px 3px 1px rgba(0, 0, 0, 0.15);\n",
              "      filter: drop-shadow(0px 1px 2px rgba(0, 0, 0, 0.3));\n",
              "      fill: #FFFFFF;\n",
              "    }\n",
              "  </style>\n",
              "\n",
              "      <script>\n",
              "        const buttonEl =\n",
              "          document.querySelector('#df-b46a3e35-715b-467d-ae7a-c78b92cb93a0 button.colab-df-convert');\n",
              "        buttonEl.style.display =\n",
              "          google.colab.kernel.accessAllowed ? 'block' : 'none';\n",
              "\n",
              "        async function convertToInteractive(key) {\n",
              "          const element = document.querySelector('#df-b46a3e35-715b-467d-ae7a-c78b92cb93a0');\n",
              "          const dataTable =\n",
              "            await google.colab.kernel.invokeFunction('convertToInteractive',\n",
              "                                                     [key], {});\n",
              "          if (!dataTable) return;\n",
              "\n",
              "          const docLinkHtml = 'Like what you see? Visit the ' +\n",
              "            '<a target=\"_blank\" href=https://colab.research.google.com/notebooks/data_table.ipynb>data table notebook</a>'\n",
              "            + ' to learn more about interactive tables.';\n",
              "          element.innerHTML = '';\n",
              "          dataTable['output_type'] = 'display_data';\n",
              "          await google.colab.output.renderOutput(dataTable, element);\n",
              "          const docLink = document.createElement('div');\n",
              "          docLink.innerHTML = docLinkHtml;\n",
              "          element.appendChild(docLink);\n",
              "        }\n",
              "      </script>\n",
              "    </div>\n",
              "  </div>\n",
              "  "
            ],
            "text/plain": [
              "                nama_perusahaan  ...       hasil\n",
              "41  CV. BOGA MANDIRI/ GAMBRINUS  ...  100.000000\n",
              "23   CAFE PANDAWA ABADI PERKASA  ...  100.000000\n",
              "30                    CAFÉ PISA  ...  100.000000\n",
              "21                       C.F.C.  ...  100.000000\n",
              "78                   GELATO BAR  ...  100.000000\n",
              "68                     DAGO 254  ...  100.000000\n",
              "53  CV. KARYA PEMBANGUNAN UTAMA  ...   97.000000\n",
              "15                      BUTTONS  ...   96.666667\n",
              "24               CAFÉ  LOVEBIRD  ...   94.782609\n",
              "82                GOKANA TEPPAN  ...   93.333333\n",
              "\n",
              "[10 rows x 7 columns]"
            ]
          },
          "metadata": {},
          "execution_count": 12
        }
      ]
    }
  ]
}